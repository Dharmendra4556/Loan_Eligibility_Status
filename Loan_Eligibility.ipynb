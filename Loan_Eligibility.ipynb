{
 "cells": [
  {
   "cell_type": "markdown",
   "id": "8c9fd95b",
   "metadata": {},
   "source": [
    "# Business Problem Understanding\n",
    "Dream Housing Finance company deals in all kinds of home loans.They have presence across all urban,semi urban and rural areas.Customer first applies for home loan and after that company validates the customer eligibility for loan.\n",
    "\n",
    "Company wants to automate the loan eligibility preocess (real time)based on customer detail provided while filling online application form.These details are gender , Mrital Status,Education,Number of Dependents,Income,Loan Amount,Credit History and others.To automate this process,they have provided a database to identify the customers segments that are eligible for loan amount so that they can specially target these customers."
   ]
  },
  {
   "cell_type": "code",
   "execution_count": 1,
   "id": "dba27518",
   "metadata": {},
   "outputs": [],
   "source": [
    "import numpy as np\n",
    "import pandas as pd\n",
    "import matplotlib.pyplot as plt\n",
    "import seaborn as sns\n",
    "import warnings\n",
    "warnings.simplefilter('ignore')"
   ]
  },
  {
   "cell_type": "code",
   "execution_count": 2,
   "id": "5bddf32c",
   "metadata": {},
   "outputs": [
    {
     "data": {
      "text/html": [
       "<div>\n",
       "<style scoped>\n",
       "    .dataframe tbody tr th:only-of-type {\n",
       "        vertical-align: middle;\n",
       "    }\n",
       "\n",
       "    .dataframe tbody tr th {\n",
       "        vertical-align: top;\n",
       "    }\n",
       "\n",
       "    .dataframe thead th {\n",
       "        text-align: right;\n",
       "    }\n",
       "</style>\n",
       "<table border=\"1\" class=\"dataframe\">\n",
       "  <thead>\n",
       "    <tr style=\"text-align: right;\">\n",
       "      <th></th>\n",
       "      <th>Loan_ID</th>\n",
       "      <th>Gender</th>\n",
       "      <th>Married</th>\n",
       "      <th>Dependents</th>\n",
       "      <th>Education</th>\n",
       "      <th>Self_Employed</th>\n",
       "      <th>ApplicantIncome</th>\n",
       "      <th>CoapplicantIncome</th>\n",
       "      <th>LoanAmount</th>\n",
       "      <th>Loan_Amount_Term</th>\n",
       "      <th>Credit_History</th>\n",
       "      <th>Property_Area</th>\n",
       "      <th>Loan_Status</th>\n",
       "    </tr>\n",
       "  </thead>\n",
       "  <tbody>\n",
       "    <tr>\n",
       "      <th>0</th>\n",
       "      <td>LP001002</td>\n",
       "      <td>Male</td>\n",
       "      <td>No</td>\n",
       "      <td>0</td>\n",
       "      <td>Graduate</td>\n",
       "      <td>No</td>\n",
       "      <td>5849</td>\n",
       "      <td>0.0</td>\n",
       "      <td>NaN</td>\n",
       "      <td>360.0</td>\n",
       "      <td>1.0</td>\n",
       "      <td>Urban</td>\n",
       "      <td>Y</td>\n",
       "    </tr>\n",
       "    <tr>\n",
       "      <th>1</th>\n",
       "      <td>LP001003</td>\n",
       "      <td>Male</td>\n",
       "      <td>Yes</td>\n",
       "      <td>1</td>\n",
       "      <td>Graduate</td>\n",
       "      <td>No</td>\n",
       "      <td>4583</td>\n",
       "      <td>1508.0</td>\n",
       "      <td>128.0</td>\n",
       "      <td>360.0</td>\n",
       "      <td>1.0</td>\n",
       "      <td>Rural</td>\n",
       "      <td>N</td>\n",
       "    </tr>\n",
       "    <tr>\n",
       "      <th>2</th>\n",
       "      <td>LP001005</td>\n",
       "      <td>Male</td>\n",
       "      <td>Yes</td>\n",
       "      <td>0</td>\n",
       "      <td>Graduate</td>\n",
       "      <td>Yes</td>\n",
       "      <td>3000</td>\n",
       "      <td>0.0</td>\n",
       "      <td>66.0</td>\n",
       "      <td>360.0</td>\n",
       "      <td>1.0</td>\n",
       "      <td>Urban</td>\n",
       "      <td>Y</td>\n",
       "    </tr>\n",
       "    <tr>\n",
       "      <th>3</th>\n",
       "      <td>LP001006</td>\n",
       "      <td>Male</td>\n",
       "      <td>Yes</td>\n",
       "      <td>0</td>\n",
       "      <td>Not Graduate</td>\n",
       "      <td>No</td>\n",
       "      <td>2583</td>\n",
       "      <td>2358.0</td>\n",
       "      <td>120.0</td>\n",
       "      <td>360.0</td>\n",
       "      <td>1.0</td>\n",
       "      <td>Urban</td>\n",
       "      <td>Y</td>\n",
       "    </tr>\n",
       "    <tr>\n",
       "      <th>4</th>\n",
       "      <td>LP001008</td>\n",
       "      <td>Male</td>\n",
       "      <td>No</td>\n",
       "      <td>0</td>\n",
       "      <td>Graduate</td>\n",
       "      <td>No</td>\n",
       "      <td>6000</td>\n",
       "      <td>0.0</td>\n",
       "      <td>141.0</td>\n",
       "      <td>360.0</td>\n",
       "      <td>1.0</td>\n",
       "      <td>Urban</td>\n",
       "      <td>Y</td>\n",
       "    </tr>\n",
       "  </tbody>\n",
       "</table>\n",
       "</div>"
      ],
      "text/plain": [
       "    Loan_ID Gender Married Dependents     Education Self_Employed  \\\n",
       "0  LP001002   Male      No          0      Graduate            No   \n",
       "1  LP001003   Male     Yes          1      Graduate            No   \n",
       "2  LP001005   Male     Yes          0      Graduate           Yes   \n",
       "3  LP001006   Male     Yes          0  Not Graduate            No   \n",
       "4  LP001008   Male      No          0      Graduate            No   \n",
       "\n",
       "   ApplicantIncome  CoapplicantIncome  LoanAmount  Loan_Amount_Term  \\\n",
       "0             5849                0.0         NaN             360.0   \n",
       "1             4583             1508.0       128.0             360.0   \n",
       "2             3000                0.0        66.0             360.0   \n",
       "3             2583             2358.0       120.0             360.0   \n",
       "4             6000                0.0       141.0             360.0   \n",
       "\n",
       "   Credit_History Property_Area Loan_Status  \n",
       "0             1.0         Urban           Y  \n",
       "1             1.0         Rural           N  \n",
       "2             1.0         Urban           Y  \n",
       "3             1.0         Urban           Y  \n",
       "4             1.0         Urban           Y  "
      ]
     },
     "execution_count": 2,
     "metadata": {},
     "output_type": "execute_result"
    }
   ],
   "source": [
    "data=pd.read_csv('LoanData.csv')\n",
    "data.head()"
   ]
  },
  {
   "cell_type": "code",
   "execution_count": 3,
   "id": "9795c37e",
   "metadata": {},
   "outputs": [
    {
     "name": "stdout",
     "output_type": "stream",
     "text": [
      "<class 'pandas.core.frame.DataFrame'>\n",
      "RangeIndex: 614 entries, 0 to 613\n",
      "Data columns (total 13 columns):\n",
      " #   Column             Non-Null Count  Dtype  \n",
      "---  ------             --------------  -----  \n",
      " 0   Loan_ID            614 non-null    object \n",
      " 1   Gender             601 non-null    object \n",
      " 2   Married            611 non-null    object \n",
      " 3   Dependents         599 non-null    object \n",
      " 4   Education          614 non-null    object \n",
      " 5   Self_Employed      582 non-null    object \n",
      " 6   ApplicantIncome    614 non-null    int64  \n",
      " 7   CoapplicantIncome  614 non-null    float64\n",
      " 8   LoanAmount         592 non-null    float64\n",
      " 9   Loan_Amount_Term   600 non-null    float64\n",
      " 10  Credit_History     564 non-null    float64\n",
      " 11  Property_Area      614 non-null    object \n",
      " 12  Loan_Status        614 non-null    object \n",
      "dtypes: float64(4), int64(1), object(8)\n",
      "memory usage: 62.5+ KB\n"
     ]
    }
   ],
   "source": [
    "data.info()"
   ]
  },
  {
   "cell_type": "code",
   "execution_count": 4,
   "id": "4e8a0f88",
   "metadata": {},
   "outputs": [
    {
     "data": {
      "text/html": [
       "<div>\n",
       "<style scoped>\n",
       "    .dataframe tbody tr th:only-of-type {\n",
       "        vertical-align: middle;\n",
       "    }\n",
       "\n",
       "    .dataframe tbody tr th {\n",
       "        vertical-align: top;\n",
       "    }\n",
       "\n",
       "    .dataframe thead th {\n",
       "        text-align: right;\n",
       "    }\n",
       "</style>\n",
       "<table border=\"1\" class=\"dataframe\">\n",
       "  <thead>\n",
       "    <tr style=\"text-align: right;\">\n",
       "      <th></th>\n",
       "      <th>ApplicantIncome</th>\n",
       "      <th>CoapplicantIncome</th>\n",
       "      <th>LoanAmount</th>\n",
       "      <th>Loan_Amount_Term</th>\n",
       "      <th>Credit_History</th>\n",
       "    </tr>\n",
       "  </thead>\n",
       "  <tbody>\n",
       "    <tr>\n",
       "      <th>count</th>\n",
       "      <td>614.000000</td>\n",
       "      <td>614.000000</td>\n",
       "      <td>592.000000</td>\n",
       "      <td>600.00000</td>\n",
       "      <td>564.000000</td>\n",
       "    </tr>\n",
       "    <tr>\n",
       "      <th>mean</th>\n",
       "      <td>5403.459283</td>\n",
       "      <td>1621.245798</td>\n",
       "      <td>146.412162</td>\n",
       "      <td>342.00000</td>\n",
       "      <td>0.842199</td>\n",
       "    </tr>\n",
       "    <tr>\n",
       "      <th>std</th>\n",
       "      <td>6109.041673</td>\n",
       "      <td>2926.248369</td>\n",
       "      <td>85.587325</td>\n",
       "      <td>65.12041</td>\n",
       "      <td>0.364878</td>\n",
       "    </tr>\n",
       "    <tr>\n",
       "      <th>min</th>\n",
       "      <td>150.000000</td>\n",
       "      <td>0.000000</td>\n",
       "      <td>9.000000</td>\n",
       "      <td>12.00000</td>\n",
       "      <td>0.000000</td>\n",
       "    </tr>\n",
       "    <tr>\n",
       "      <th>25%</th>\n",
       "      <td>2877.500000</td>\n",
       "      <td>0.000000</td>\n",
       "      <td>100.000000</td>\n",
       "      <td>360.00000</td>\n",
       "      <td>1.000000</td>\n",
       "    </tr>\n",
       "    <tr>\n",
       "      <th>50%</th>\n",
       "      <td>3812.500000</td>\n",
       "      <td>1188.500000</td>\n",
       "      <td>128.000000</td>\n",
       "      <td>360.00000</td>\n",
       "      <td>1.000000</td>\n",
       "    </tr>\n",
       "    <tr>\n",
       "      <th>75%</th>\n",
       "      <td>5795.000000</td>\n",
       "      <td>2297.250000</td>\n",
       "      <td>168.000000</td>\n",
       "      <td>360.00000</td>\n",
       "      <td>1.000000</td>\n",
       "    </tr>\n",
       "    <tr>\n",
       "      <th>max</th>\n",
       "      <td>81000.000000</td>\n",
       "      <td>41667.000000</td>\n",
       "      <td>700.000000</td>\n",
       "      <td>480.00000</td>\n",
       "      <td>1.000000</td>\n",
       "    </tr>\n",
       "  </tbody>\n",
       "</table>\n",
       "</div>"
      ],
      "text/plain": [
       "       ApplicantIncome  CoapplicantIncome  LoanAmount  Loan_Amount_Term  \\\n",
       "count       614.000000         614.000000  592.000000         600.00000   \n",
       "mean       5403.459283        1621.245798  146.412162         342.00000   \n",
       "std        6109.041673        2926.248369   85.587325          65.12041   \n",
       "min         150.000000           0.000000    9.000000          12.00000   \n",
       "25%        2877.500000           0.000000  100.000000         360.00000   \n",
       "50%        3812.500000        1188.500000  128.000000         360.00000   \n",
       "75%        5795.000000        2297.250000  168.000000         360.00000   \n",
       "max       81000.000000       41667.000000  700.000000         480.00000   \n",
       "\n",
       "       Credit_History  \n",
       "count      564.000000  \n",
       "mean         0.842199  \n",
       "std          0.364878  \n",
       "min          0.000000  \n",
       "25%          1.000000  \n",
       "50%          1.000000  \n",
       "75%          1.000000  \n",
       "max          1.000000  "
      ]
     },
     "execution_count": 4,
     "metadata": {},
     "output_type": "execute_result"
    }
   ],
   "source": [
    "data.describe()"
   ]
  },
  {
   "cell_type": "code",
   "execution_count": 5,
   "id": "e79934a7",
   "metadata": {},
   "outputs": [
    {
     "data": {
      "text/plain": [
       "Index(['Loan_ID', 'Gender', 'Married', 'Dependents', 'Education',\n",
       "       'Self_Employed', 'ApplicantIncome', 'CoapplicantIncome', 'LoanAmount',\n",
       "       'Loan_Amount_Term', 'Credit_History', 'Property_Area', 'Loan_Status'],\n",
       "      dtype='object')"
      ]
     },
     "execution_count": 5,
     "metadata": {},
     "output_type": "execute_result"
    }
   ],
   "source": [
    "data.columns"
   ]
  },
  {
   "cell_type": "markdown",
   "id": "bae94c67",
   "metadata": {},
   "source": [
    "# Data Understanding \n",
    "- Loan_ID: Unique Loan ID\n",
    "    \n",
    "- Gender:Male/Female\n",
    "    \n",
    "- Married: Applicant married\n",
    "    \n",
    "- Dependents: Number of Dependents\n",
    "    \n",
    "- Education: Application Education\n",
    "    \n",
    "- Self_Employed : wheather the applicants it Self employed\n",
    "    \n",
    "- ApplicantIncome : Applicant income\n",
    "    \n",
    "- CoapplicantIncome : Coapplicant income\n",
    "    \n",
    "- LoanAmount : Loan amount in thousands\n",
    "    \n",
    "- Loan_Amount_Term : Term of loan in months\n",
    "    \n",
    "- Credit_History : credit history meets guidelines\n",
    "    \n",
    "- Property_Area : Urban/Semi Urban/Rural\n",
    "    \n",
    "- Loan_Status : Loan approved **target variable**"
   ]
  },
  {
   "cell_type": "code",
   "execution_count": 6,
   "id": "02ae44b2",
   "metadata": {},
   "outputs": [
    {
     "data": {
      "text/plain": [
       "614"
      ]
     },
     "execution_count": 6,
     "metadata": {},
     "output_type": "execute_result"
    }
   ],
   "source": [
    "data['Loan_ID'].nunique()"
   ]
  },
  {
   "cell_type": "code",
   "execution_count": 7,
   "id": "c518d92e",
   "metadata": {},
   "outputs": [],
   "source": [
    "data.drop(columns=['Loan_ID'],inplace=True)"
   ]
  },
  {
   "cell_type": "code",
   "execution_count": 8,
   "id": "970ece8b",
   "metadata": {},
   "outputs": [
    {
     "data": {
      "text/html": [
       "<div>\n",
       "<style scoped>\n",
       "    .dataframe tbody tr th:only-of-type {\n",
       "        vertical-align: middle;\n",
       "    }\n",
       "\n",
       "    .dataframe tbody tr th {\n",
       "        vertical-align: top;\n",
       "    }\n",
       "\n",
       "    .dataframe thead th {\n",
       "        text-align: right;\n",
       "    }\n",
       "</style>\n",
       "<table border=\"1\" class=\"dataframe\">\n",
       "  <thead>\n",
       "    <tr style=\"text-align: right;\">\n",
       "      <th></th>\n",
       "      <th>Gender</th>\n",
       "      <th>Married</th>\n",
       "      <th>Dependents</th>\n",
       "      <th>Education</th>\n",
       "      <th>Self_Employed</th>\n",
       "      <th>ApplicantIncome</th>\n",
       "      <th>CoapplicantIncome</th>\n",
       "      <th>LoanAmount</th>\n",
       "      <th>Loan_Amount_Term</th>\n",
       "      <th>Credit_History</th>\n",
       "      <th>Property_Area</th>\n",
       "      <th>Loan_Status</th>\n",
       "    </tr>\n",
       "  </thead>\n",
       "  <tbody>\n",
       "    <tr>\n",
       "      <th>0</th>\n",
       "      <td>Male</td>\n",
       "      <td>No</td>\n",
       "      <td>0</td>\n",
       "      <td>Graduate</td>\n",
       "      <td>No</td>\n",
       "      <td>5849</td>\n",
       "      <td>0.0</td>\n",
       "      <td>NaN</td>\n",
       "      <td>360.0</td>\n",
       "      <td>1.0</td>\n",
       "      <td>Urban</td>\n",
       "      <td>Y</td>\n",
       "    </tr>\n",
       "    <tr>\n",
       "      <th>1</th>\n",
       "      <td>Male</td>\n",
       "      <td>Yes</td>\n",
       "      <td>1</td>\n",
       "      <td>Graduate</td>\n",
       "      <td>No</td>\n",
       "      <td>4583</td>\n",
       "      <td>1508.0</td>\n",
       "      <td>128.0</td>\n",
       "      <td>360.0</td>\n",
       "      <td>1.0</td>\n",
       "      <td>Rural</td>\n",
       "      <td>N</td>\n",
       "    </tr>\n",
       "    <tr>\n",
       "      <th>2</th>\n",
       "      <td>Male</td>\n",
       "      <td>Yes</td>\n",
       "      <td>0</td>\n",
       "      <td>Graduate</td>\n",
       "      <td>Yes</td>\n",
       "      <td>3000</td>\n",
       "      <td>0.0</td>\n",
       "      <td>66.0</td>\n",
       "      <td>360.0</td>\n",
       "      <td>1.0</td>\n",
       "      <td>Urban</td>\n",
       "      <td>Y</td>\n",
       "    </tr>\n",
       "    <tr>\n",
       "      <th>3</th>\n",
       "      <td>Male</td>\n",
       "      <td>Yes</td>\n",
       "      <td>0</td>\n",
       "      <td>Not Graduate</td>\n",
       "      <td>No</td>\n",
       "      <td>2583</td>\n",
       "      <td>2358.0</td>\n",
       "      <td>120.0</td>\n",
       "      <td>360.0</td>\n",
       "      <td>1.0</td>\n",
       "      <td>Urban</td>\n",
       "      <td>Y</td>\n",
       "    </tr>\n",
       "    <tr>\n",
       "      <th>4</th>\n",
       "      <td>Male</td>\n",
       "      <td>No</td>\n",
       "      <td>0</td>\n",
       "      <td>Graduate</td>\n",
       "      <td>No</td>\n",
       "      <td>6000</td>\n",
       "      <td>0.0</td>\n",
       "      <td>141.0</td>\n",
       "      <td>360.0</td>\n",
       "      <td>1.0</td>\n",
       "      <td>Urban</td>\n",
       "      <td>Y</td>\n",
       "    </tr>\n",
       "    <tr>\n",
       "      <th>...</th>\n",
       "      <td>...</td>\n",
       "      <td>...</td>\n",
       "      <td>...</td>\n",
       "      <td>...</td>\n",
       "      <td>...</td>\n",
       "      <td>...</td>\n",
       "      <td>...</td>\n",
       "      <td>...</td>\n",
       "      <td>...</td>\n",
       "      <td>...</td>\n",
       "      <td>...</td>\n",
       "      <td>...</td>\n",
       "    </tr>\n",
       "    <tr>\n",
       "      <th>609</th>\n",
       "      <td>Female</td>\n",
       "      <td>No</td>\n",
       "      <td>0</td>\n",
       "      <td>Graduate</td>\n",
       "      <td>No</td>\n",
       "      <td>2900</td>\n",
       "      <td>0.0</td>\n",
       "      <td>71.0</td>\n",
       "      <td>360.0</td>\n",
       "      <td>1.0</td>\n",
       "      <td>Rural</td>\n",
       "      <td>Y</td>\n",
       "    </tr>\n",
       "    <tr>\n",
       "      <th>610</th>\n",
       "      <td>Male</td>\n",
       "      <td>Yes</td>\n",
       "      <td>3+</td>\n",
       "      <td>Graduate</td>\n",
       "      <td>No</td>\n",
       "      <td>4106</td>\n",
       "      <td>0.0</td>\n",
       "      <td>40.0</td>\n",
       "      <td>180.0</td>\n",
       "      <td>1.0</td>\n",
       "      <td>Rural</td>\n",
       "      <td>Y</td>\n",
       "    </tr>\n",
       "    <tr>\n",
       "      <th>611</th>\n",
       "      <td>Male</td>\n",
       "      <td>Yes</td>\n",
       "      <td>1</td>\n",
       "      <td>Graduate</td>\n",
       "      <td>No</td>\n",
       "      <td>8072</td>\n",
       "      <td>240.0</td>\n",
       "      <td>253.0</td>\n",
       "      <td>360.0</td>\n",
       "      <td>1.0</td>\n",
       "      <td>Urban</td>\n",
       "      <td>Y</td>\n",
       "    </tr>\n",
       "    <tr>\n",
       "      <th>612</th>\n",
       "      <td>Male</td>\n",
       "      <td>Yes</td>\n",
       "      <td>2</td>\n",
       "      <td>Graduate</td>\n",
       "      <td>No</td>\n",
       "      <td>7583</td>\n",
       "      <td>0.0</td>\n",
       "      <td>187.0</td>\n",
       "      <td>360.0</td>\n",
       "      <td>1.0</td>\n",
       "      <td>Urban</td>\n",
       "      <td>Y</td>\n",
       "    </tr>\n",
       "    <tr>\n",
       "      <th>613</th>\n",
       "      <td>Female</td>\n",
       "      <td>No</td>\n",
       "      <td>0</td>\n",
       "      <td>Graduate</td>\n",
       "      <td>Yes</td>\n",
       "      <td>4583</td>\n",
       "      <td>0.0</td>\n",
       "      <td>133.0</td>\n",
       "      <td>360.0</td>\n",
       "      <td>0.0</td>\n",
       "      <td>Semiurban</td>\n",
       "      <td>N</td>\n",
       "    </tr>\n",
       "  </tbody>\n",
       "</table>\n",
       "<p>614 rows × 12 columns</p>\n",
       "</div>"
      ],
      "text/plain": [
       "     Gender Married Dependents     Education Self_Employed  ApplicantIncome  \\\n",
       "0      Male      No          0      Graduate            No             5849   \n",
       "1      Male     Yes          1      Graduate            No             4583   \n",
       "2      Male     Yes          0      Graduate           Yes             3000   \n",
       "3      Male     Yes          0  Not Graduate            No             2583   \n",
       "4      Male      No          0      Graduate            No             6000   \n",
       "..      ...     ...        ...           ...           ...              ...   \n",
       "609  Female      No          0      Graduate            No             2900   \n",
       "610    Male     Yes         3+      Graduate            No             4106   \n",
       "611    Male     Yes          1      Graduate            No             8072   \n",
       "612    Male     Yes          2      Graduate            No             7583   \n",
       "613  Female      No          0      Graduate           Yes             4583   \n",
       "\n",
       "     CoapplicantIncome  LoanAmount  Loan_Amount_Term  Credit_History  \\\n",
       "0                  0.0         NaN             360.0             1.0   \n",
       "1               1508.0       128.0             360.0             1.0   \n",
       "2                  0.0        66.0             360.0             1.0   \n",
       "3               2358.0       120.0             360.0             1.0   \n",
       "4                  0.0       141.0             360.0             1.0   \n",
       "..                 ...         ...               ...             ...   \n",
       "609                0.0        71.0             360.0             1.0   \n",
       "610                0.0        40.0             180.0             1.0   \n",
       "611              240.0       253.0             360.0             1.0   \n",
       "612                0.0       187.0             360.0             1.0   \n",
       "613                0.0       133.0             360.0             0.0   \n",
       "\n",
       "    Property_Area Loan_Status  \n",
       "0           Urban           Y  \n",
       "1           Rural           N  \n",
       "2           Urban           Y  \n",
       "3           Urban           Y  \n",
       "4           Urban           Y  \n",
       "..            ...         ...  \n",
       "609         Rural           Y  \n",
       "610         Rural           Y  \n",
       "611         Urban           Y  \n",
       "612         Urban           Y  \n",
       "613     Semiurban           N  \n",
       "\n",
       "[614 rows x 12 columns]"
      ]
     },
     "execution_count": 8,
     "metadata": {},
     "output_type": "execute_result"
    }
   ],
   "source": [
    "data"
   ]
  },
  {
   "cell_type": "code",
   "execution_count": 9,
   "id": "d59b62d0",
   "metadata": {},
   "outputs": [
    {
     "data": {
      "text/plain": [
       "array(['Male', 'Female', nan], dtype=object)"
      ]
     },
     "execution_count": 9,
     "metadata": {},
     "output_type": "execute_result"
    }
   ],
   "source": [
    "data['Gender'].unique()"
   ]
  },
  {
   "cell_type": "code",
   "execution_count": 10,
   "id": "5946fc2c",
   "metadata": {},
   "outputs": [
    {
     "data": {
      "text/plain": [
       "Male      489\n",
       "Female    112\n",
       "Name: Gender, dtype: int64"
      ]
     },
     "execution_count": 10,
     "metadata": {},
     "output_type": "execute_result"
    }
   ],
   "source": [
    "data['Gender'].value_counts()"
   ]
  },
  {
   "cell_type": "code",
   "execution_count": 11,
   "id": "f2e0658d",
   "metadata": {},
   "outputs": [
    {
     "data": {
      "text/plain": [
       "array(['No', 'Yes', nan], dtype=object)"
      ]
     },
     "execution_count": 11,
     "metadata": {},
     "output_type": "execute_result"
    }
   ],
   "source": [
    "data['Married'].unique()"
   ]
  },
  {
   "cell_type": "code",
   "execution_count": 12,
   "id": "0cec9291",
   "metadata": {},
   "outputs": [
    {
     "data": {
      "text/plain": [
       "Yes    398\n",
       "No     213\n",
       "Name: Married, dtype: int64"
      ]
     },
     "execution_count": 12,
     "metadata": {},
     "output_type": "execute_result"
    }
   ],
   "source": [
    "data['Married'].value_counts()"
   ]
  },
  {
   "cell_type": "code",
   "execution_count": 13,
   "id": "3159eaca",
   "metadata": {},
   "outputs": [
    {
     "data": {
      "text/plain": [
       "array(['0', '1', '2', '3+', nan], dtype=object)"
      ]
     },
     "execution_count": 13,
     "metadata": {},
     "output_type": "execute_result"
    }
   ],
   "source": [
    "data['Dependents'].unique()"
   ]
  },
  {
   "cell_type": "code",
   "execution_count": 14,
   "id": "98d44099",
   "metadata": {},
   "outputs": [
    {
     "data": {
      "text/plain": [
       "0     345\n",
       "1     102\n",
       "2     101\n",
       "3+     51\n",
       "Name: Dependents, dtype: int64"
      ]
     },
     "execution_count": 14,
     "metadata": {},
     "output_type": "execute_result"
    }
   ],
   "source": [
    "data['Dependents'].value_counts()"
   ]
  },
  {
   "cell_type": "code",
   "execution_count": 15,
   "id": "9202f71d",
   "metadata": {},
   "outputs": [
    {
     "data": {
      "text/plain": [
       "array(['Graduate', 'Not Graduate'], dtype=object)"
      ]
     },
     "execution_count": 15,
     "metadata": {},
     "output_type": "execute_result"
    }
   ],
   "source": [
    "data['Education'].unique()"
   ]
  },
  {
   "cell_type": "code",
   "execution_count": 16,
   "id": "3110ffda",
   "metadata": {},
   "outputs": [
    {
     "data": {
      "text/plain": [
       "array(['No', 'Yes', nan], dtype=object)"
      ]
     },
     "execution_count": 16,
     "metadata": {},
     "output_type": "execute_result"
    }
   ],
   "source": [
    "data['Self_Employed'].unique()"
   ]
  },
  {
   "cell_type": "code",
   "execution_count": 17,
   "id": "e004a58b",
   "metadata": {},
   "outputs": [
    {
     "data": {
      "text/plain": [
       "No     500\n",
       "Yes     82\n",
       "Name: Self_Employed, dtype: int64"
      ]
     },
     "execution_count": 17,
     "metadata": {},
     "output_type": "execute_result"
    }
   ],
   "source": [
    "data['Self_Employed'].value_counts()"
   ]
  },
  {
   "cell_type": "code",
   "execution_count": 18,
   "id": "0ce62361",
   "metadata": {},
   "outputs": [
    {
     "data": {
      "text/plain": [
       "array([ 5849,  4583,  3000,  2583,  6000,  5417,  2333,  3036,  4006,\n",
       "       12841,  3200,  2500,  3073,  1853,  1299,  4950,  3596,  3510,\n",
       "        4887,  2600,  7660,  5955,  3365,  3717,  9560,  2799,  4226,\n",
       "        1442,  3750,  4166,  3167,  4692,  3500, 12500,  2275,  1828,\n",
       "        3667,  3748,  3600,  1800,  2400,  3941,  4695,  3410,  5649,\n",
       "        5821,  2645,  4000,  1928,  3086,  4230,  4616, 11500,  2708,\n",
       "        2132,  3366,  8080,  3357,  3029,  2609,  4945,  5726, 10750,\n",
       "        7100,  4300,  3208,  1875,  4755,  5266,  1000,  3333,  3846,\n",
       "        2395,  1378,  3988,  2366,  8566,  5695,  2958,  6250,  3273,\n",
       "        4133,  3620,  6782,  2484,  1977,  4188,  1759,  4288,  4843,\n",
       "       13650,  4652,  3816,  3052, 11417,  7333,  3800,  2071,  5316,\n",
       "        2929,  3572,  7451,  5050, 14583,  2214,  5568, 10408,  5667,\n",
       "        2137,  2957,  3692, 23803,  3865, 10513,  6080, 20166,  2014,\n",
       "        2718,  3459,  4895,  3316, 14999,  4200,  5042,  6950,  2698,\n",
       "       11757,  2330, 14866,  1538, 10000,  4860,  6277,  2577,  9166,\n",
       "        2281,  3254, 39999,  9538,  2980,  1863,  7933,  3089,  4167,\n",
       "        9323,  3707,  2439,  2237,  8000,  1820, 51763,  3522,  5708,\n",
       "        4344,  3497,  2045,  5516,  6400,  1916,  4600, 33846,  3625,\n",
       "       39147,  2178,  2383,   674,  9328,  4885, 12000,  6033,  3858,\n",
       "        4191,  3125,  8333,  1907,  3416, 11000,  4923,  3992,  3917,\n",
       "        4408,  3244,  3975,  2479,  3418,  3430,  7787,  5703,  3173,\n",
       "        3850,   150,  3727,  5000,  4283,  2221,  4009,  2971,  7578,\n",
       "        3250,  4735,  4758,  2491,  3716,  3189,  3155,  5500,  5746,\n",
       "        3463,  3812,  3315,  5819,  2510,  2965,  3406,  6050,  9703,\n",
       "        6608,  2882,  1809,  1668,  3427,  2661, 16250,  3083,  6045,\n",
       "        5250, 14683,  4931,  6083,  2060,  3481,  7200,  5166,  4095,\n",
       "        4708,  4333,  2876,  3237, 11146,  2833,  2620,  3900,  2750,\n",
       "        3993,  3103,  4100,  4053,  3927,  2301,  1811, 20667,  3158,\n",
       "        3704,  4124,  9508,  3075,  4400,  3153,  4416,  6875,  4666,\n",
       "        2875,  1625,  2000,  3762, 20233,  7667,  2917,  2927,  2507,\n",
       "        2473,  3399,  2058,  3541,  4342,  3601,  3166, 15000,  8666,\n",
       "        4917,  5818,  4384,  2935, 63337,  9833,  5503,  1830,  4160,\n",
       "        2647,  2378,  4554,  2499,  3523,  6333,  2625,  9083,  8750,\n",
       "        2666,  2423,  3813,  3875,  5167,  4723,  4750,  3013,  6822,\n",
       "        6216,  5124,  6325, 19730, 15759,  5185,  3062,  2764,  4817,\n",
       "        4310,  3069,  5391,  5941,  7167,  4566,  2346,  3010,  5488,\n",
       "        9167,  9504,  1993,  3100,  3276,  3180,  3033,  3902,  1500,\n",
       "        2889,  2755,  1963,  7441,  4547,  2167,  2213,  8300, 81000,\n",
       "        3867,  6256,  6096,  2253,  2149,  2995,  1600,  1025,  3246,\n",
       "        5829,  2720,  7250, 14880,  4606,  5935,  2920,  2717,  8624,\n",
       "        6500, 12876,  2425, 10047,  1926, 10416,  7142,  3660,  7901,\n",
       "        4707, 37719,  3466,  3539,  3340,  2769,  2309,  1958,  3948,\n",
       "        2483,  7085,  3859,  4301,  3708,  4354,  8334,  2083,  7740,\n",
       "        3015,  5191,  2947, 16692,   210,  3450,  2653,  4691,  5532,\n",
       "       16525,  6700,  2873, 16667,  4350,  3095, 10833,  3547, 18333,\n",
       "        2435,  2699,  5333,  3691, 17263,  3597,  3326,  4625,  2895,\n",
       "        6283,   645,  3159,  4865,  4050,  3814, 20833,  3583, 13262,\n",
       "        3598,  6065,  3283,  2130,  5815,  2031,  3074,  4683,  3400,\n",
       "        2192,  5677,  7948,  4680, 17500,  3775,  5285,  2679,  6783,\n",
       "        4281,  3588, 11250, 18165,  2550,  6133,  3617,  6417,  4608,\n",
       "        2138,  3652,  2239,  3017,  2768,  3358,  2526,  2785,  6633,\n",
       "        2492,  2454,  3593,  5468,  2667, 10139,  3887,  4180,  3675,\n",
       "       19484,  5923,  5800,  8799,  4467,  3417,  5116, 16666,  6125,\n",
       "        6406,  3087,  3229,  1782,  3182,  6540,  1836,  1880,  2787,\n",
       "        2297,  2165,  2726,  9357, 16120,  3833,  6383,  2987,  9963,\n",
       "        5780,   416,  2894,  3676,  3987,  3232,  2900,  4106,  8072,\n",
       "        7583], dtype=int64)"
      ]
     },
     "execution_count": 18,
     "metadata": {},
     "output_type": "execute_result"
    }
   ],
   "source": [
    "data['ApplicantIncome'].unique()"
   ]
  },
  {
   "cell_type": "code",
   "execution_count": 19,
   "id": "7e6ed1fa",
   "metadata": {},
   "outputs": [
    {
     "data": {
      "text/plain": [
       "2500    9\n",
       "4583    6\n",
       "6000    6\n",
       "2600    6\n",
       "3333    5\n",
       "       ..\n",
       "3244    1\n",
       "4408    1\n",
       "3917    1\n",
       "3992    1\n",
       "7583    1\n",
       "Name: ApplicantIncome, Length: 505, dtype: int64"
      ]
     },
     "execution_count": 19,
     "metadata": {},
     "output_type": "execute_result"
    }
   ],
   "source": [
    "data['ApplicantIncome'].value_counts()"
   ]
  },
  {
   "cell_type": "code",
   "execution_count": 20,
   "id": "92408e24",
   "metadata": {},
   "outputs": [
    {
     "data": {
      "text/plain": [
       "array([0.00000000e+00, 1.50800000e+03, 2.35800000e+03, 4.19600000e+03,\n",
       "       1.51600000e+03, 2.50400000e+03, 1.52600000e+03, 1.09680000e+04,\n",
       "       7.00000000e+02, 1.84000000e+03, 8.10600000e+03, 2.84000000e+03,\n",
       "       1.08600000e+03, 3.50000000e+03, 5.62500000e+03, 1.91100000e+03,\n",
       "       1.91700000e+03, 2.92500000e+03, 2.25300000e+03, 1.04000000e+03,\n",
       "       2.08300000e+03, 3.36900000e+03, 1.66700000e+03, 3.00000000e+03,\n",
       "       2.06700000e+03, 1.33000000e+03, 1.45900000e+03, 7.21000000e+03,\n",
       "       1.66800000e+03, 1.21300000e+03, 2.33600000e+03, 3.44000000e+03,\n",
       "       2.27500000e+03, 1.64400000e+03, 1.16700000e+03, 1.59100000e+03,\n",
       "       2.20000000e+03, 2.25000000e+03, 2.85900000e+03, 3.79600000e+03,\n",
       "       3.44900000e+03, 4.59500000e+03, 2.25400000e+03, 3.06600000e+03,\n",
       "       1.87500000e+03, 1.77400000e+03, 4.75000000e+03, 3.02200000e+03,\n",
       "       4.00000000e+03, 2.16600000e+03, 1.88100000e+03, 2.53100000e+03,\n",
       "       2.00000000e+03, 2.11800000e+03, 4.16700000e+03, 2.90000000e+03,\n",
       "       5.65400000e+03, 1.82000000e+03, 2.30200000e+03, 9.97000000e+02,\n",
       "       3.54100000e+03, 3.26300000e+03, 3.80600000e+03, 3.58300000e+03,\n",
       "       7.54000000e+02, 1.03000000e+03, 1.12600000e+03, 3.60000000e+03,\n",
       "       2.33300000e+03, 4.11400000e+03, 2.28300000e+03, 1.39800000e+03,\n",
       "       2.14200000e+03, 2.66700000e+03, 8.98000000e+03, 2.01400000e+03,\n",
       "       1.64000000e+03, 3.85000000e+03, 2.56900000e+03, 1.92900000e+03,\n",
       "       7.75000000e+03, 1.43000000e+03, 2.03400000e+03, 4.48600000e+03,\n",
       "       1.42500000e+03, 1.66600000e+03, 8.30000000e+02, 3.75000000e+03,\n",
       "       1.04100000e+03, 1.28000000e+03, 1.44700000e+03, 3.16600000e+03,\n",
       "       3.33300000e+03, 1.76900000e+03, 7.36000000e+02, 1.96400000e+03,\n",
       "       1.61900000e+03, 1.13000000e+04, 1.45100000e+03, 7.25000000e+03,\n",
       "       5.06300000e+03, 2.13800000e+03, 5.29600000e+03, 2.58300000e+03,\n",
       "       2.36500000e+03, 2.81600000e+03, 2.50000000e+03, 1.08300000e+03,\n",
       "       1.25000000e+03, 3.02100000e+03, 9.83000000e+02, 1.80000000e+03,\n",
       "       1.77500000e+03, 2.38300000e+03, 1.71700000e+03, 2.79100000e+03,\n",
       "       1.01000000e+03, 1.69500000e+03, 2.05400000e+03, 2.59800000e+03,\n",
       "       1.77900000e+03, 1.26000000e+03, 5.00000000e+03, 1.98300000e+03,\n",
       "       5.70100000e+03, 1.30000000e+03, 4.41700000e+03, 4.33300000e+03,\n",
       "       1.84300000e+03, 1.86800000e+03, 3.89000000e+03, 2.16700000e+03,\n",
       "       7.10100000e+03, 2.10000000e+03, 4.25000000e+03, 2.20900000e+03,\n",
       "       3.44700000e+03, 1.38700000e+03, 1.81100000e+03, 1.56000000e+03,\n",
       "       1.85700000e+03, 2.22300000e+03, 1.84200000e+03, 3.27400000e+03,\n",
       "       2.42600000e+03, 8.00000000e+02, 9.85799988e+02, 3.05300000e+03,\n",
       "       2.41600000e+03, 3.33400000e+03, 2.54100000e+03, 2.93400000e+03,\n",
       "       1.75000000e+03, 1.80300000e+03, 1.86300000e+03, 2.40500000e+03,\n",
       "       2.13400000e+03, 1.89000000e+02, 1.59000000e+03, 2.98500000e+03,\n",
       "       4.98300000e+03, 2.16000000e+03, 2.45100000e+03, 1.79300000e+03,\n",
       "       1.83300000e+03, 4.49000000e+03, 6.88000000e+02, 4.60000000e+03,\n",
       "       1.58700000e+03, 1.22900000e+03, 2.33000000e+03, 2.45800000e+03,\n",
       "       3.23000000e+03, 2.16800000e+03, 4.58300000e+03, 6.25000000e+03,\n",
       "       5.05000000e+02, 3.16700000e+03, 3.66700000e+03, 3.03300000e+03,\n",
       "       5.26600000e+03, 7.87300000e+03, 1.98700000e+03, 9.23000000e+02,\n",
       "       4.99600000e+03, 4.23200000e+03, 1.60000000e+03, 3.13600000e+03,\n",
       "       2.41700000e+03, 2.11500000e+03, 1.62500000e+03, 1.40000000e+03,\n",
       "       4.84000000e+02, 2.00000000e+04, 2.40000000e+03, 2.03300000e+03,\n",
       "       3.23700000e+03, 2.77300000e+03, 1.41700000e+03, 1.71900000e+03,\n",
       "       4.30000000e+03, 1.61200008e+01, 2.34000000e+03, 1.85100000e+03,\n",
       "       1.12500000e+03, 5.06400000e+03, 1.99300000e+03, 8.33300000e+03,\n",
       "       1.21000000e+03, 1.37600000e+03, 1.71000000e+03, 1.54200000e+03,\n",
       "       1.25500000e+03, 1.45600000e+03, 1.73300000e+03, 2.46600000e+03,\n",
       "       4.08300000e+03, 2.18800000e+03, 1.66400000e+03, 2.91700000e+03,\n",
       "       2.07900000e+03, 1.50000000e+03, 4.64800000e+03, 1.01400000e+03,\n",
       "       1.87200000e+03, 1.60300000e+03, 3.15000000e+03, 2.43600000e+03,\n",
       "       2.78500000e+03, 1.13100000e+03, 2.15700000e+03, 9.13000000e+02,\n",
       "       1.70000000e+03, 2.85700000e+03, 4.41600000e+03, 3.68300000e+03,\n",
       "       5.62400000e+03, 5.30200000e+03, 1.48300000e+03, 6.66700000e+03,\n",
       "       3.01300000e+03, 1.28700000e+03, 2.00400000e+03, 2.03500000e+03,\n",
       "       6.66600000e+03, 3.66600000e+03, 3.42800000e+03, 1.63200000e+03,\n",
       "       1.91500000e+03, 1.74200000e+03, 1.42400000e+03, 7.16600000e+03,\n",
       "       2.08700000e+03, 1.30200000e+03, 5.50000000e+03, 2.04200000e+03,\n",
       "       3.90600000e+03, 5.36000000e+02, 2.84500000e+03, 2.52400000e+03,\n",
       "       6.63000000e+02, 1.95000000e+03, 1.78300000e+03, 2.01600000e+03,\n",
       "       2.37500000e+03, 3.25000000e+03, 4.26600000e+03, 1.03200000e+03,\n",
       "       2.66900000e+03, 2.30600000e+03, 2.42000000e+02, 2.06400000e+03,\n",
       "       4.61000000e+02, 2.21000000e+03, 2.73900000e+03, 2.23200000e+03,\n",
       "       3.38370000e+04, 1.52200000e+03, 3.41600000e+03, 3.30000000e+03,\n",
       "       1.00000000e+03, 4.16670000e+04, 2.79200000e+03, 4.30100000e+03,\n",
       "       3.80000000e+03, 1.41100000e+03, 2.40000000e+02])"
      ]
     },
     "execution_count": 20,
     "metadata": {},
     "output_type": "execute_result"
    }
   ],
   "source": [
    "data['CoapplicantIncome'].unique()"
   ]
  },
  {
   "cell_type": "code",
   "execution_count": 21,
   "id": "7e1e96fc",
   "metadata": {},
   "outputs": [
    {
     "data": {
      "text/plain": [
       "0.0       273\n",
       "2500.0      5\n",
       "2083.0      5\n",
       "1666.0      5\n",
       "2250.0      3\n",
       "         ... \n",
       "2791.0      1\n",
       "1010.0      1\n",
       "1695.0      1\n",
       "2598.0      1\n",
       "240.0       1\n",
       "Name: CoapplicantIncome, Length: 287, dtype: int64"
      ]
     },
     "execution_count": 21,
     "metadata": {},
     "output_type": "execute_result"
    }
   ],
   "source": [
    "data['CoapplicantIncome'].value_counts()"
   ]
  },
  {
   "cell_type": "code",
   "execution_count": 22,
   "id": "fbf7156f",
   "metadata": {},
   "outputs": [
    {
     "data": {
      "text/plain": [
       "array([360., 120., 240.,  nan, 180.,  60., 300., 480.,  36.,  84.,  12.])"
      ]
     },
     "execution_count": 22,
     "metadata": {},
     "output_type": "execute_result"
    }
   ],
   "source": [
    "data['Loan_Amount_Term'].unique()"
   ]
  },
  {
   "cell_type": "code",
   "execution_count": 23,
   "id": "439d9fd9",
   "metadata": {},
   "outputs": [
    {
     "data": {
      "text/plain": [
       "360.0    512\n",
       "180.0     44\n",
       "480.0     15\n",
       "300.0     13\n",
       "240.0      4\n",
       "84.0       4\n",
       "120.0      3\n",
       "60.0       2\n",
       "36.0       2\n",
       "12.0       1\n",
       "Name: Loan_Amount_Term, dtype: int64"
      ]
     },
     "execution_count": 23,
     "metadata": {},
     "output_type": "execute_result"
    }
   ],
   "source": [
    "data['Loan_Amount_Term'].value_counts()"
   ]
  },
  {
   "cell_type": "code",
   "execution_count": 24,
   "id": "bf5d68ec",
   "metadata": {},
   "outputs": [
    {
     "data": {
      "text/plain": [
       "array([ 1.,  0., nan])"
      ]
     },
     "execution_count": 24,
     "metadata": {},
     "output_type": "execute_result"
    }
   ],
   "source": [
    "data['Credit_History'].unique()"
   ]
  },
  {
   "cell_type": "code",
   "execution_count": 25,
   "id": "cc28f282",
   "metadata": {},
   "outputs": [],
   "source": [
    "data['Credit_History'].replace({0:'bad',1:'good'},inplace=True)"
   ]
  },
  {
   "cell_type": "code",
   "execution_count": 26,
   "id": "db434fd6",
   "metadata": {},
   "outputs": [
    {
     "data": {
      "text/plain": [
       "array(['good', 'bad', nan], dtype=object)"
      ]
     },
     "execution_count": 26,
     "metadata": {},
     "output_type": "execute_result"
    }
   ],
   "source": [
    "data['Credit_History'].unique()"
   ]
  },
  {
   "cell_type": "code",
   "execution_count": 27,
   "id": "d4c901a5",
   "metadata": {},
   "outputs": [
    {
     "data": {
      "text/plain": [
       "good    475\n",
       "bad      89\n",
       "Name: Credit_History, dtype: int64"
      ]
     },
     "execution_count": 27,
     "metadata": {},
     "output_type": "execute_result"
    }
   ],
   "source": [
    "data['Credit_History'].value_counts()"
   ]
  },
  {
   "cell_type": "code",
   "execution_count": 28,
   "id": "c4288f64",
   "metadata": {},
   "outputs": [
    {
     "data": {
      "text/plain": [
       "array(['Urban', 'Rural', 'Semiurban'], dtype=object)"
      ]
     },
     "execution_count": 28,
     "metadata": {},
     "output_type": "execute_result"
    }
   ],
   "source": [
    "data['Property_Area'].unique()"
   ]
  },
  {
   "cell_type": "code",
   "execution_count": 29,
   "id": "44e21850",
   "metadata": {},
   "outputs": [
    {
     "data": {
      "text/plain": [
       "Semiurban    233\n",
       "Urban        202\n",
       "Rural        179\n",
       "Name: Property_Area, dtype: int64"
      ]
     },
     "execution_count": 29,
     "metadata": {},
     "output_type": "execute_result"
    }
   ],
   "source": [
    "data['Property_Area'].value_counts()"
   ]
  },
  {
   "cell_type": "code",
   "execution_count": 30,
   "id": "232cd5ed",
   "metadata": {},
   "outputs": [
    {
     "data": {
      "text/plain": [
       "array(['Y', 'N'], dtype=object)"
      ]
     },
     "execution_count": 30,
     "metadata": {},
     "output_type": "execute_result"
    }
   ],
   "source": [
    "data['Loan_Status'].unique()"
   ]
  },
  {
   "cell_type": "code",
   "execution_count": 31,
   "id": "246a9e52",
   "metadata": {},
   "outputs": [
    {
     "data": {
      "text/plain": [
       "Y    422\n",
       "N    192\n",
       "Name: Loan_Status, dtype: int64"
      ]
     },
     "execution_count": 31,
     "metadata": {},
     "output_type": "execute_result"
    }
   ],
   "source": [
    "data['Loan_Status'].value_counts()"
   ]
  },
  {
   "cell_type": "code",
   "execution_count": 32,
   "id": "97b6dbdf",
   "metadata": {},
   "outputs": [
    {
     "data": {
      "text/plain": [
       "0"
      ]
     },
     "execution_count": 32,
     "metadata": {},
     "output_type": "execute_result"
    }
   ],
   "source": [
    "data.duplicated().sum()"
   ]
  },
  {
   "cell_type": "code",
   "execution_count": 33,
   "id": "cf3bacff",
   "metadata": {},
   "outputs": [
    {
     "data": {
      "text/plain": [
       "Gender               13\n",
       "Married               3\n",
       "Dependents           15\n",
       "Education             0\n",
       "Self_Employed        32\n",
       "ApplicantIncome       0\n",
       "CoapplicantIncome     0\n",
       "LoanAmount           22\n",
       "Loan_Amount_Term     14\n",
       "Credit_History       50\n",
       "Property_Area         0\n",
       "Loan_Status           0\n",
       "dtype: int64"
      ]
     },
     "execution_count": 33,
     "metadata": {},
     "output_type": "execute_result"
    }
   ],
   "source": [
    "data.isnull().sum()"
   ]
  },
  {
   "cell_type": "code",
   "execution_count": 34,
   "id": "d8f1db63",
   "metadata": {},
   "outputs": [
    {
     "data": {
      "text/plain": [
       "Index(['Gender', 'Married', 'Dependents', 'Education', 'Self_Employed',\n",
       "       'ApplicantIncome', 'CoapplicantIncome', 'LoanAmount',\n",
       "       'Loan_Amount_Term', 'Credit_History', 'Property_Area', 'Loan_Status'],\n",
       "      dtype='object')"
      ]
     },
     "execution_count": 34,
     "metadata": {},
     "output_type": "execute_result"
    }
   ],
   "source": [
    "data.columns"
   ]
  },
  {
   "cell_type": "code",
   "execution_count": 35,
   "id": "20a59775",
   "metadata": {},
   "outputs": [],
   "source": [
    "continous=['ApplicantIncome', 'CoapplicantIncome', 'LoanAmount']\n",
    "discrete_categorial=['Gender', 'Married','Education', 'Self_Employed','Credit_History', 'Property_Area', 'Loan_Status']\n",
    "discrete_count=['Dependents','Loan_Amount_Term']"
   ]
  },
  {
   "cell_type": "markdown",
   "id": "c907320a",
   "metadata": {},
   "source": [
    "## Exploratory Data Analysis(EDA)\n",
    "\n",
    "**for continous Variables**"
   ]
  },
  {
   "cell_type": "code",
   "execution_count": 36,
   "id": "05b81c08",
   "metadata": {},
   "outputs": [
    {
     "data": {
      "text/html": [
       "<div>\n",
       "<style scoped>\n",
       "    .dataframe tbody tr th:only-of-type {\n",
       "        vertical-align: middle;\n",
       "    }\n",
       "\n",
       "    .dataframe tbody tr th {\n",
       "        vertical-align: top;\n",
       "    }\n",
       "\n",
       "    .dataframe thead th {\n",
       "        text-align: right;\n",
       "    }\n",
       "</style>\n",
       "<table border=\"1\" class=\"dataframe\">\n",
       "  <thead>\n",
       "    <tr style=\"text-align: right;\">\n",
       "      <th></th>\n",
       "      <th>ApplicantIncome</th>\n",
       "      <th>CoapplicantIncome</th>\n",
       "      <th>LoanAmount</th>\n",
       "    </tr>\n",
       "  </thead>\n",
       "  <tbody>\n",
       "    <tr>\n",
       "      <th>count</th>\n",
       "      <td>614.000000</td>\n",
       "      <td>614.000000</td>\n",
       "      <td>592.000000</td>\n",
       "    </tr>\n",
       "    <tr>\n",
       "      <th>mean</th>\n",
       "      <td>5403.459283</td>\n",
       "      <td>1621.245798</td>\n",
       "      <td>146.412162</td>\n",
       "    </tr>\n",
       "    <tr>\n",
       "      <th>std</th>\n",
       "      <td>6109.041673</td>\n",
       "      <td>2926.248369</td>\n",
       "      <td>85.587325</td>\n",
       "    </tr>\n",
       "    <tr>\n",
       "      <th>min</th>\n",
       "      <td>150.000000</td>\n",
       "      <td>0.000000</td>\n",
       "      <td>9.000000</td>\n",
       "    </tr>\n",
       "    <tr>\n",
       "      <th>25%</th>\n",
       "      <td>2877.500000</td>\n",
       "      <td>0.000000</td>\n",
       "      <td>100.000000</td>\n",
       "    </tr>\n",
       "    <tr>\n",
       "      <th>50%</th>\n",
       "      <td>3812.500000</td>\n",
       "      <td>1188.500000</td>\n",
       "      <td>128.000000</td>\n",
       "    </tr>\n",
       "    <tr>\n",
       "      <th>75%</th>\n",
       "      <td>5795.000000</td>\n",
       "      <td>2297.250000</td>\n",
       "      <td>168.000000</td>\n",
       "    </tr>\n",
       "    <tr>\n",
       "      <th>max</th>\n",
       "      <td>81000.000000</td>\n",
       "      <td>41667.000000</td>\n",
       "      <td>700.000000</td>\n",
       "    </tr>\n",
       "  </tbody>\n",
       "</table>\n",
       "</div>"
      ],
      "text/plain": [
       "       ApplicantIncome  CoapplicantIncome  LoanAmount\n",
       "count       614.000000         614.000000  592.000000\n",
       "mean       5403.459283        1621.245798  146.412162\n",
       "std        6109.041673        2926.248369   85.587325\n",
       "min         150.000000           0.000000    9.000000\n",
       "25%        2877.500000           0.000000  100.000000\n",
       "50%        3812.500000        1188.500000  128.000000\n",
       "75%        5795.000000        2297.250000  168.000000\n",
       "max       81000.000000       41667.000000  700.000000"
      ]
     },
     "execution_count": 36,
     "metadata": {},
     "output_type": "execute_result"
    }
   ],
   "source": [
    "data[continous].describe()"
   ]
  },
  {
   "cell_type": "code",
   "execution_count": 37,
   "id": "f221685e",
   "metadata": {},
   "outputs": [
    {
     "data": {
      "image/png": "[encoded data removed]",
      "text/plain": [
       "<Figure size 1800x800 with 3 Axes>"
      ]
     },
     "metadata": {},
     "output_type": "display_data"
    }
   ],
   "source": [
    "plt.figure(figsize=(18,8))\n",
    "\n",
    "plt.subplot(1,3,1)\n",
    "sns.histplot(data['ApplicantIncome'],kde=True)\n",
    "\n",
    "plt.subplot(1,3,2)\n",
    "sns.histplot(data['CoapplicantIncome'],kde=True)\n",
    "\n",
    "plt.subplot(1,3,3)\n",
    "sns.histplot(data['LoanAmount'],kde=True)\n",
    "plt.show()"
   ]
  },
  {
   "cell_type": "code",
   "execution_count": 38,
   "id": "ecf41c25",
   "metadata": {},
   "outputs": [
    {
     "data": {
      "text/plain": [
       "ApplicantIncome      6.539513\n",
       "CoapplicantIncome    7.491531\n",
       "LoanAmount           2.677552\n",
       "dtype: float64"
      ]
     },
     "execution_count": 38,
     "metadata": {},
     "output_type": "execute_result"
    }
   ],
   "source": [
    "data[continous].skew()"
   ]
  },
  {
   "cell_type": "code",
   "execution_count": 39,
   "id": "e1150358",
   "metadata": {},
   "outputs": [
    {
     "data": {
      "image/png": "[encoded data removed]",
      "text/plain": [
       "<Figure size 750x750 with 12 Axes>"
      ]
     },
     "metadata": {},
     "output_type": "display_data"
    }
   ],
   "source": [
    "sns.pairplot(data[continous])\n",
    "plt.show()"
   ]
  },
  {
   "cell_type": "code",
   "execution_count": 40,
   "id": "35d28d98",
   "metadata": {},
   "outputs": [
    {
     "data": {
      "image/png": "[encoded data removed]",
      "text/plain": [
       "<Figure size 640x480 with 2 Axes>"
      ]
     },
     "metadata": {},
     "output_type": "display_data"
    }
   ],
   "source": [
    "sns.heatmap(data[continous].corr(),annot=True)\n",
    "plt.show()"
   ]
  },
  {
   "cell_type": "code",
   "execution_count": 41,
   "id": "458f10ef",
   "metadata": {},
   "outputs": [
    {
     "data": {
      "image/png": "[encoded data removed]",
      "text/plain": [
       "<Figure size 1200x400 with 3 Axes>"
      ]
     },
     "metadata": {},
     "output_type": "display_data"
    }
   ],
   "source": [
    "plt.figure(figsize=(12,4))\n",
    "\n",
    "plt.subplot(1,3,1)\n",
    "sns.boxplot(data['ApplicantIncome'])\n",
    "\n",
    "plt.subplot(1,3,2)\n",
    "sns.boxplot(data['CoapplicantIncome'])\n",
    "\n",
    "plt.subplot(1,3,3)\n",
    "sns.boxplot(data['LoanAmount'])\n",
    "plt.show()"
   ]
  },
  {
   "cell_type": "markdown",
   "id": "ebefcee6",
   "metadata": {},
   "source": [
    "**for Discrete Variables**"
   ]
  },
  {
   "cell_type": "code",
   "execution_count": 42,
   "id": "3e29ba2a",
   "metadata": {},
   "outputs": [
    {
     "data": {
      "text/html": [
       "<div>\n",
       "<style scoped>\n",
       "    .dataframe tbody tr th:only-of-type {\n",
       "        vertical-align: middle;\n",
       "    }\n",
       "\n",
       "    .dataframe tbody tr th {\n",
       "        vertical-align: top;\n",
       "    }\n",
       "\n",
       "    .dataframe thead th {\n",
       "        text-align: right;\n",
       "    }\n",
       "</style>\n",
       "<table border=\"1\" class=\"dataframe\">\n",
       "  <thead>\n",
       "    <tr style=\"text-align: right;\">\n",
       "      <th></th>\n",
       "      <th>Gender</th>\n",
       "      <th>Married</th>\n",
       "      <th>Education</th>\n",
       "      <th>Self_Employed</th>\n",
       "      <th>Credit_History</th>\n",
       "      <th>Property_Area</th>\n",
       "      <th>Loan_Status</th>\n",
       "    </tr>\n",
       "  </thead>\n",
       "  <tbody>\n",
       "    <tr>\n",
       "      <th>count</th>\n",
       "      <td>601</td>\n",
       "      <td>611</td>\n",
       "      <td>614</td>\n",
       "      <td>582</td>\n",
       "      <td>564</td>\n",
       "      <td>614</td>\n",
       "      <td>614</td>\n",
       "    </tr>\n",
       "    <tr>\n",
       "      <th>unique</th>\n",
       "      <td>2</td>\n",
       "      <td>2</td>\n",
       "      <td>2</td>\n",
       "      <td>2</td>\n",
       "      <td>2</td>\n",
       "      <td>3</td>\n",
       "      <td>2</td>\n",
       "    </tr>\n",
       "    <tr>\n",
       "      <th>top</th>\n",
       "      <td>Male</td>\n",
       "      <td>Yes</td>\n",
       "      <td>Graduate</td>\n",
       "      <td>No</td>\n",
       "      <td>good</td>\n",
       "      <td>Semiurban</td>\n",
       "      <td>Y</td>\n",
       "    </tr>\n",
       "    <tr>\n",
       "      <th>freq</th>\n",
       "      <td>489</td>\n",
       "      <td>398</td>\n",
       "      <td>480</td>\n",
       "      <td>500</td>\n",
       "      <td>475</td>\n",
       "      <td>233</td>\n",
       "      <td>422</td>\n",
       "    </tr>\n",
       "  </tbody>\n",
       "</table>\n",
       "</div>"
      ],
      "text/plain": [
       "       Gender Married Education Self_Employed Credit_History Property_Area  \\\n",
       "count     601     611       614           582            564           614   \n",
       "unique      2       2         2             2              2             3   \n",
       "top      Male     Yes  Graduate            No           good     Semiurban   \n",
       "freq      489     398       480           500            475           233   \n",
       "\n",
       "       Loan_Status  \n",
       "count          614  \n",
       "unique           2  \n",
       "top              Y  \n",
       "freq           422  "
      ]
     },
     "execution_count": 42,
     "metadata": {},
     "output_type": "execute_result"
    }
   ],
   "source": [
    "data[discrete_categorial].describe()"
   ]
  },
  {
   "cell_type": "code",
   "execution_count": 43,
   "id": "ec2062dd",
   "metadata": {},
   "outputs": [
    {
     "data": {
      "image/png": "[encoded data removed]",
      "text/plain": [
       "<Figure size 1800x1000 with 7 Axes>"
      ]
     },
     "metadata": {},
     "output_type": "display_data"
    }
   ],
   "source": [
    "plt.figure(figsize=(18,10))\n",
    "\n",
    "\n",
    "plt.subplot(2,4,1)\n",
    "sns.countplot(y=data['Gender'])\n",
    "\n",
    "plt.subplot(2,4,2)\n",
    "sns.countplot(y=data['Married'])\n",
    "\n",
    "plt.subplot(2,4,3)\n",
    "sns.countplot(y=data['Education'])\n",
    "\n",
    "plt.subplot(2,4,4)\n",
    "sns.countplot(y=data['Self_Employed'])\n",
    "\n",
    "plt.subplot(2,4,5)\n",
    "sns.countplot(y=data['Credit_History'])\n",
    "\n",
    "plt.subplot(2,4,6)\n",
    "sns.countplot(y=data['Property_Area'])\n",
    "\n",
    "plt.subplot(2,4,7)\n",
    "sns.countplot(y=data['Loan_Status'])\n",
    "\n",
    "plt.suptitle('Univariate Analysis On Categorical Columns.')\n",
    "plt.show()\n"
   ]
  },
  {
   "cell_type": "markdown",
   "id": "7bb74fe4",
   "metadata": {},
   "source": [
    "# Data Preparation"
   ]
  },
  {
   "cell_type": "code",
   "execution_count": 44,
   "id": "89833279",
   "metadata": {},
   "outputs": [],
   "source": [
    "data['Income']=data['ApplicantIncome']+data['CoapplicantIncome']"
   ]
  },
  {
   "cell_type": "code",
   "execution_count": 45,
   "id": "8bcb1db3",
   "metadata": {},
   "outputs": [],
   "source": [
    "data.drop(columns=['ApplicantIncome','CoapplicantIncome'],axis=1,inplace=True)"
   ]
  },
  {
   "cell_type": "markdown",
   "id": "3585f22e",
   "metadata": {},
   "source": [
    "**Modify the wrong data**"
   ]
  },
  {
   "cell_type": "code",
   "execution_count": 46,
   "id": "562be1c9",
   "metadata": {},
   "outputs": [],
   "source": [
    "data['Dependents'].replace({'3+':3},inplace=True)"
   ]
  },
  {
   "cell_type": "markdown",
   "id": "4cbf376f",
   "metadata": {},
   "source": [
    "**Missing Values Treatment**"
   ]
  },
  {
   "cell_type": "code",
   "execution_count": 47,
   "id": "999bd9bf",
   "metadata": {},
   "outputs": [
    {
     "data": {
      "text/plain": [
       "Gender              13\n",
       "Married              3\n",
       "Dependents          15\n",
       "Education            0\n",
       "Self_Employed       32\n",
       "LoanAmount          22\n",
       "Loan_Amount_Term    14\n",
       "Credit_History      50\n",
       "Property_Area        0\n",
       "Loan_Status          0\n",
       "Income               0\n",
       "dtype: int64"
      ]
     },
     "execution_count": 47,
     "metadata": {},
     "output_type": "execute_result"
    }
   ],
   "source": [
    "data.isnull().sum()"
   ]
  },
  {
   "cell_type": "code",
   "execution_count": 48,
   "id": "698c0389",
   "metadata": {},
   "outputs": [
    {
     "data": {
      "text/plain": [
       "Gender              2.117264\n",
       "Married             0.488599\n",
       "Dependents          2.442997\n",
       "Education           0.000000\n",
       "Self_Employed       5.211726\n",
       "LoanAmount          3.583062\n",
       "Loan_Amount_Term    2.280130\n",
       "Credit_History      8.143322\n",
       "Property_Area       0.000000\n",
       "Loan_Status         0.000000\n",
       "Income              0.000000\n",
       "dtype: float64"
      ]
     },
     "execution_count": 48,
     "metadata": {},
     "output_type": "execute_result"
    }
   ],
   "source": [
    "data.isnull().sum()/len(data)*100"
   ]
  },
  {
   "cell_type": "code",
   "execution_count": 49,
   "id": "8aa4e3a8",
   "metadata": {},
   "outputs": [],
   "source": [
    "data=data.dropna(subset=['Income','LoanAmount','Loan_Amount_Term','Credit_History'])"
   ]
  },
  {
   "cell_type": "code",
   "execution_count": 50,
   "id": "4917dd79",
   "metadata": {},
   "outputs": [],
   "source": [
    "# count variable replace with zero\n",
    "data['Dependents']=data['Dependents'].fillna(0)"
   ]
  },
  {
   "cell_type": "code",
   "execution_count": 51,
   "id": "77b9d527",
   "metadata": {},
   "outputs": [],
   "source": [
    "# categorical variables replace with mode.\n",
    "data['Gender']=data['Gender'].fillna(data['Gender'].mode()[0])\n",
    "data['Married']=data['Married'].fillna(data['Married'].mode()[0])\n",
    "data['Self_Employed']=data['Self_Employed'].fillna(data['Self_Employed'].mode()[0])"
   ]
  },
  {
   "cell_type": "code",
   "execution_count": 52,
   "id": "f44cc057",
   "metadata": {},
   "outputs": [
    {
     "data": {
      "text/plain": [
       "Gender              0\n",
       "Married             0\n",
       "Dependents          0\n",
       "Education           0\n",
       "Self_Employed       0\n",
       "LoanAmount          0\n",
       "Loan_Amount_Term    0\n",
       "Credit_History      0\n",
       "Property_Area       0\n",
       "Loan_Status         0\n",
       "Income              0\n",
       "dtype: int64"
      ]
     },
     "execution_count": 52,
     "metadata": {},
     "output_type": "execute_result"
    }
   ],
   "source": [
    "data.isnull().sum()"
   ]
  },
  {
   "cell_type": "markdown",
   "id": "4efc6790",
   "metadata": {},
   "source": [
    "**outliers treatment**\n",
    "\n",
    "**Encoding**"
   ]
  },
  {
   "cell_type": "code",
   "execution_count": 53,
   "id": "3b7b0a29",
   "metadata": {},
   "outputs": [],
   "source": [
    "data['Gender']=data['Gender'].map({'Male':1,'Female':0}).astype('int')\n",
    "data['Married']=data['Married'].map({'Yes':1,'No':0}).astype('int')\n",
    "data['Education']=data['Education'].map({'Graduate':1,'Not Graduate':0}).astype('int')\n",
    "data['Self_Employed']=data['Self_Employed'].map({'Yes':1,'No':0}).astype('int')\n",
    "data['Property_Area']=data['Property_Area'].map({'Rural':0,'Semiurban':1,'Urban':2}).astype('int')\n",
    "data['Credit_History']=data['Credit_History'].map({'good':1,'bad':0}).astype('int')\n",
    "data['Loan_Status']=data['Loan_Status'].map({'Y':1,'N':0}).astype('int')"
   ]
  },
  {
   "cell_type": "markdown",
   "id": "74cdab32",
   "metadata": {},
   "source": [
    "**data type conversion**"
   ]
  },
  {
   "cell_type": "code",
   "execution_count": 54,
   "id": "9b3cbbaf",
   "metadata": {},
   "outputs": [],
   "source": [
    "data['Dependents']=data['Dependents'].astype('int')\n",
    "data['Loan_Amount_Term']=data['Loan_Amount_Term'].astype('int')"
   ]
  },
  {
   "cell_type": "code",
   "execution_count": 55,
   "id": "09e23228",
   "metadata": {},
   "outputs": [
    {
     "data": {
      "text/plain": [
       "Gender                int32\n",
       "Married               int32\n",
       "Dependents            int32\n",
       "Education             int32\n",
       "Self_Employed         int32\n",
       "LoanAmount          float64\n",
       "Loan_Amount_Term      int32\n",
       "Credit_History        int32\n",
       "Property_Area         int32\n",
       "Loan_Status           int32\n",
       "Income              float64\n",
       "dtype: object"
      ]
     },
     "execution_count": 55,
     "metadata": {},
     "output_type": "execute_result"
    }
   ],
   "source": [
    "data.dtypes"
   ]
  },
  {
   "cell_type": "code",
   "execution_count": 56,
   "id": "a26fbe6e",
   "metadata": {},
   "outputs": [
    {
     "data": {
      "text/html": [
       "<div>\n",
       "<style scoped>\n",
       "    .dataframe tbody tr th:only-of-type {\n",
       "        vertical-align: middle;\n",
       "    }\n",
       "\n",
       "    .dataframe tbody tr th {\n",
       "        vertical-align: top;\n",
       "    }\n",
       "\n",
       "    .dataframe thead th {\n",
       "        text-align: right;\n",
       "    }\n",
       "</style>\n",
       "<table border=\"1\" class=\"dataframe\">\n",
       "  <thead>\n",
       "    <tr style=\"text-align: right;\">\n",
       "      <th></th>\n",
       "      <th>Gender</th>\n",
       "      <th>Married</th>\n",
       "      <th>Dependents</th>\n",
       "      <th>Education</th>\n",
       "      <th>Self_Employed</th>\n",
       "      <th>LoanAmount</th>\n",
       "      <th>Loan_Amount_Term</th>\n",
       "      <th>Credit_History</th>\n",
       "      <th>Property_Area</th>\n",
       "      <th>Loan_Status</th>\n",
       "      <th>Income</th>\n",
       "    </tr>\n",
       "  </thead>\n",
       "  <tbody>\n",
       "    <tr>\n",
       "      <th>1</th>\n",
       "      <td>1</td>\n",
       "      <td>1</td>\n",
       "      <td>1</td>\n",
       "      <td>1</td>\n",
       "      <td>0</td>\n",
       "      <td>128.0</td>\n",
       "      <td>360</td>\n",
       "      <td>1</td>\n",
       "      <td>0</td>\n",
       "      <td>0</td>\n",
       "      <td>6091.0</td>\n",
       "    </tr>\n",
       "    <tr>\n",
       "      <th>2</th>\n",
       "      <td>1</td>\n",
       "      <td>1</td>\n",
       "      <td>0</td>\n",
       "      <td>1</td>\n",
       "      <td>1</td>\n",
       "      <td>66.0</td>\n",
       "      <td>360</td>\n",
       "      <td>1</td>\n",
       "      <td>2</td>\n",
       "      <td>1</td>\n",
       "      <td>3000.0</td>\n",
       "    </tr>\n",
       "    <tr>\n",
       "      <th>3</th>\n",
       "      <td>1</td>\n",
       "      <td>1</td>\n",
       "      <td>0</td>\n",
       "      <td>0</td>\n",
       "      <td>0</td>\n",
       "      <td>120.0</td>\n",
       "      <td>360</td>\n",
       "      <td>1</td>\n",
       "      <td>2</td>\n",
       "      <td>1</td>\n",
       "      <td>4941.0</td>\n",
       "    </tr>\n",
       "    <tr>\n",
       "      <th>4</th>\n",
       "      <td>1</td>\n",
       "      <td>0</td>\n",
       "      <td>0</td>\n",
       "      <td>1</td>\n",
       "      <td>0</td>\n",
       "      <td>141.0</td>\n",
       "      <td>360</td>\n",
       "      <td>1</td>\n",
       "      <td>2</td>\n",
       "      <td>1</td>\n",
       "      <td>6000.0</td>\n",
       "    </tr>\n",
       "    <tr>\n",
       "      <th>5</th>\n",
       "      <td>1</td>\n",
       "      <td>1</td>\n",
       "      <td>2</td>\n",
       "      <td>1</td>\n",
       "      <td>1</td>\n",
       "      <td>267.0</td>\n",
       "      <td>360</td>\n",
       "      <td>1</td>\n",
       "      <td>2</td>\n",
       "      <td>1</td>\n",
       "      <td>9613.0</td>\n",
       "    </tr>\n",
       "  </tbody>\n",
       "</table>\n",
       "</div>"
      ],
      "text/plain": [
       "   Gender  Married  Dependents  Education  Self_Employed  LoanAmount  \\\n",
       "1       1        1           1          1              0       128.0   \n",
       "2       1        1           0          1              1        66.0   \n",
       "3       1        1           0          0              0       120.0   \n",
       "4       1        0           0          1              0       141.0   \n",
       "5       1        1           2          1              1       267.0   \n",
       "\n",
       "   Loan_Amount_Term  Credit_History  Property_Area  Loan_Status  Income  \n",
       "1               360               1              0            0  6091.0  \n",
       "2               360               1              2            1  3000.0  \n",
       "3               360               1              2            1  4941.0  \n",
       "4               360               1              2            1  6000.0  \n",
       "5               360               1              2            1  9613.0  "
      ]
     },
     "execution_count": 56,
     "metadata": {},
     "output_type": "execute_result"
    }
   ],
   "source": [
    "data.head()"
   ]
  },
  {
   "cell_type": "markdown",
   "id": "712d5cb5",
   "metadata": {},
   "source": [
    "**transformations**"
   ]
  },
  {
   "cell_type": "code",
   "execution_count": 57,
   "id": "06dfbd59",
   "metadata": {},
   "outputs": [
    {
     "data": {
      "text/plain": [
       "Income        5.777628\n",
       "LoanAmount    2.607945\n",
       "dtype: float64"
      ]
     },
     "execution_count": 57,
     "metadata": {},
     "output_type": "execute_result"
    }
   ],
   "source": [
    "data[['Income','LoanAmount']].skew()"
   ]
  },
  {
   "cell_type": "code",
   "execution_count": 58,
   "id": "777599b1",
   "metadata": {},
   "outputs": [],
   "source": [
    "from scipy.stats import boxcox\n",
    "data['Income'],a=boxcox(data['Income'])\n",
    "data['LoanAmount'],c=boxcox(data['LoanAmount'])"
   ]
  },
  {
   "cell_type": "code",
   "execution_count": 59,
   "id": "b40ea17f",
   "metadata": {},
   "outputs": [
    {
     "data": {
      "text/plain": [
       "Income       -0.027769\n",
       "LoanAmount    0.038289\n",
       "dtype: float64"
      ]
     },
     "execution_count": 59,
     "metadata": {},
     "output_type": "execute_result"
    }
   ],
   "source": [
    "data[['Income','LoanAmount']].skew()"
   ]
  },
  {
   "cell_type": "code",
   "execution_count": 60,
   "id": "84bfb54b",
   "metadata": {},
   "outputs": [],
   "source": [
    "data['Loan_Amount_Term']=data['Loan_Amount_Term']/12"
   ]
  },
  {
   "cell_type": "code",
   "execution_count": 61,
   "id": "4d827977",
   "metadata": {},
   "outputs": [
    {
     "data": {
      "text/html": [
       "<div>\n",
       "<style scoped>\n",
       "    .dataframe tbody tr th:only-of-type {\n",
       "        vertical-align: middle;\n",
       "    }\n",
       "\n",
       "    .dataframe tbody tr th {\n",
       "        vertical-align: top;\n",
       "    }\n",
       "\n",
       "    .dataframe thead th {\n",
       "        text-align: right;\n",
       "    }\n",
       "</style>\n",
       "<table border=\"1\" class=\"dataframe\">\n",
       "  <thead>\n",
       "    <tr style=\"text-align: right;\">\n",
       "      <th></th>\n",
       "      <th>Gender</th>\n",
       "      <th>Married</th>\n",
       "      <th>Dependents</th>\n",
       "      <th>Education</th>\n",
       "      <th>Self_Employed</th>\n",
       "      <th>LoanAmount</th>\n",
       "      <th>Loan_Amount_Term</th>\n",
       "      <th>Credit_History</th>\n",
       "      <th>Property_Area</th>\n",
       "      <th>Loan_Status</th>\n",
       "      <th>Income</th>\n",
       "    </tr>\n",
       "  </thead>\n",
       "  <tbody>\n",
       "    <tr>\n",
       "      <th>1</th>\n",
       "      <td>1</td>\n",
       "      <td>1</td>\n",
       "      <td>1</td>\n",
       "      <td>1</td>\n",
       "      <td>0</td>\n",
       "      <td>6.243267</td>\n",
       "      <td>30.0</td>\n",
       "      <td>1</td>\n",
       "      <td>0</td>\n",
       "      <td>0</td>\n",
       "      <td>1.864967</td>\n",
       "    </tr>\n",
       "    <tr>\n",
       "      <th>2</th>\n",
       "      <td>1</td>\n",
       "      <td>1</td>\n",
       "      <td>0</td>\n",
       "      <td>1</td>\n",
       "      <td>1</td>\n",
       "      <td>5.202610</td>\n",
       "      <td>30.0</td>\n",
       "      <td>1</td>\n",
       "      <td>2</td>\n",
       "      <td>1</td>\n",
       "      <td>1.856556</td>\n",
       "    </tr>\n",
       "    <tr>\n",
       "      <th>3</th>\n",
       "      <td>1</td>\n",
       "      <td>1</td>\n",
       "      <td>0</td>\n",
       "      <td>0</td>\n",
       "      <td>0</td>\n",
       "      <td>6.138816</td>\n",
       "      <td>30.0</td>\n",
       "      <td>1</td>\n",
       "      <td>2</td>\n",
       "      <td>1</td>\n",
       "      <td>1.862802</td>\n",
       "    </tr>\n",
       "    <tr>\n",
       "      <th>4</th>\n",
       "      <td>1</td>\n",
       "      <td>0</td>\n",
       "      <td>0</td>\n",
       "      <td>1</td>\n",
       "      <td>0</td>\n",
       "      <td>6.401083</td>\n",
       "      <td>30.0</td>\n",
       "      <td>1</td>\n",
       "      <td>2</td>\n",
       "      <td>1</td>\n",
       "      <td>1.864819</td>\n",
       "    </tr>\n",
       "    <tr>\n",
       "      <th>5</th>\n",
       "      <td>1</td>\n",
       "      <td>1</td>\n",
       "      <td>2</td>\n",
       "      <td>1</td>\n",
       "      <td>1</td>\n",
       "      <td>7.481930</td>\n",
       "      <td>30.0</td>\n",
       "      <td>1</td>\n",
       "      <td>2</td>\n",
       "      <td>1</td>\n",
       "      <td>1.868932</td>\n",
       "    </tr>\n",
       "  </tbody>\n",
       "</table>\n",
       "</div>"
      ],
      "text/plain": [
       "   Gender  Married  Dependents  Education  Self_Employed  LoanAmount  \\\n",
       "1       1        1           1          1              0    6.243267   \n",
       "2       1        1           0          1              1    5.202610   \n",
       "3       1        1           0          0              0    6.138816   \n",
       "4       1        0           0          1              0    6.401083   \n",
       "5       1        1           2          1              1    7.481930   \n",
       "\n",
       "   Loan_Amount_Term  Credit_History  Property_Area  Loan_Status    Income  \n",
       "1              30.0               1              0            0  1.864967  \n",
       "2              30.0               1              2            1  1.856556  \n",
       "3              30.0               1              2            1  1.862802  \n",
       "4              30.0               1              2            1  1.864819  \n",
       "5              30.0               1              2            1  1.868932  "
      ]
     },
     "execution_count": 61,
     "metadata": {},
     "output_type": "execute_result"
    }
   ],
   "source": [
    "data.head()"
   ]
  },
  {
   "cell_type": "markdown",
   "id": "fe120c48",
   "metadata": {},
   "source": [
    "**X & y**"
   ]
  },
  {
   "cell_type": "code",
   "execution_count": 62,
   "id": "d2c33cda",
   "metadata": {},
   "outputs": [],
   "source": [
    "X=data.drop('Loan_Status',axis=1)\n",
    "y=data['Loan_Status']"
   ]
  },
  {
   "cell_type": "markdown",
   "id": "bc7d052e",
   "metadata": {},
   "source": [
    "**identify the best random state number**"
   ]
  },
  {
   "cell_type": "code",
   "execution_count": 63,
   "id": "8dfa67e4",
   "metadata": {},
   "outputs": [
    {
     "name": "stdout",
     "output_type": "stream",
     "text": [
      "best random state number is : 70\n"
     ]
    }
   ],
   "source": [
    "train=[]\n",
    "test=[]\n",
    "cv=[]\n",
    "for i in range(0,101):\n",
    "    from sklearn.model_selection import train_test_split\n",
    "    X_train,X_test,y_train,y_test=train_test_split(X,y,test_size=0.2,random_state=i)\n",
    "    from sklearn.linear_model import LogisticRegression\n",
    "    lg=LogisticRegression()\n",
    "    lg.fit(X_train,y_train)\n",
    "    ypred_train=lg.predict(X_train)\n",
    "    ypred_test=lg.predict(X_test)\n",
    "    from sklearn.metrics import accuracy_score\n",
    "    from sklearn.model_selection import cross_val_score\n",
    "    train.append(accuracy_score(y_train,ypred_train))\n",
    "    test.append(accuracy_score(y_test,ypred_test))\n",
    "    cv.append(cross_val_score(lg,X_train,y_train,cv=5,scoring='accuracy').mean())\n",
    "em=pd.DataFrame({'train':train,'test':test,'cv':cv})\n",
    "gm=em[(abs(em['train']-em['test'])<=0.05) & (abs(em['test']-em['cv'])<=0.05)]\n",
    "rs=gm[gm['cv']==gm['cv'].max()].index.to_list()[0]\n",
    "print('best random state number is :',rs)"
   ]
  },
  {
   "cell_type": "markdown",
   "id": "b35ac89a",
   "metadata": {},
   "source": [
    "**train test split**"
   ]
  },
  {
   "cell_type": "code",
   "execution_count": 64,
   "id": "351306b0",
   "metadata": {},
   "outputs": [],
   "source": [
    "from sklearn.model_selection import train_test_split\n",
    "X_train,X_test,y_train,y_test=train_test_split(X,y,test_size=0.2,random_state=70)"
   ]
  },
  {
   "cell_type": "markdown",
   "id": "16fd5dda",
   "metadata": {},
   "source": [
    "# Machine Learning Modeling & Evaluation\n",
    "\n",
    "**1. Logistic Regression**"
   ]
  },
  {
   "cell_type": "code",
   "execution_count": 65,
   "id": "5789761a",
   "metadata": {},
   "outputs": [],
   "source": [
    "from sklearn.linear_model import LogisticRegression\n",
    "from sklearn.model_selection import cross_val_score\n",
    "from sklearn.metrics import accuracy_score"
   ]
  },
  {
   "cell_type": "code",
   "execution_count": 66,
   "id": "9516d7a7",
   "metadata": {},
   "outputs": [
    {
     "name": "stdout",
     "output_type": "stream",
     "text": [
      "train accuracy: 0.8226950354609929\n",
      "cross validation score: 0.8227731092436976\n",
      "test accuracy: 0.7830188679245284\n"
     ]
    }
   ],
   "source": [
    "lgr_model=LogisticRegression()\n",
    "lgr_model.fit(X_train,y_train)\n",
    "ypred_train=lgr_model.predict(X_train)\n",
    "ypred_test=lgr_model.predict(X_test)\n",
    "print('train accuracy:',accuracy_score(y_train,ypred_train))\n",
    "print('cross validation score:',cross_val_score(lgr_model,X_train,y_train,cv=5,scoring='accuracy').mean())\n",
    "print('test accuracy:',accuracy_score(y_test,ypred_test))"
   ]
  },
  {
   "cell_type": "markdown",
   "id": "d06f420f",
   "metadata": {},
   "source": [
    "**2. KNN**"
   ]
  },
  {
   "cell_type": "code",
   "execution_count": 67,
   "id": "2b2120ab",
   "metadata": {},
   "outputs": [
    {
     "name": "stdout",
     "output_type": "stream",
     "text": [
      "train accuracy: 0.7541371158392435\n",
      "cross validation score: 0.7375910364145659\n",
      "test accuracy: 0.7075471698113207\n"
     ]
    }
   ],
   "source": [
    "from sklearn.neighbors import KNeighborsClassifier\n",
    "from sklearn.model_selection import GridSearchCV\n",
    "estimator=KNeighborsClassifier()\n",
    "param_grid={'n_neighbors':list(range(0,51))}\n",
    "model_hp=GridSearchCV(estimator,param_grid,cv=5,scoring='accuracy')\n",
    "model_hp.fit(X_train,y_train)\n",
    "knn_model=model_hp.best_estimator_\n",
    "knn_model.fit(X_train,y_train)\n",
    "ypred_train=knn_model.predict(X_train)\n",
    "ypred_test=knn_model.predict(X_test)\n",
    "print('train accuracy:',accuracy_score(y_train,ypred_train))\n",
    "print('cross validation score:',cross_val_score(knn_model,X_train,y_train,cv=5,scoring='accuracy').mean())\n",
    "print('test accuracy:',accuracy_score(y_test,ypred_test))"
   ]
  },
  {
   "cell_type": "markdown",
   "id": "53a5790c",
   "metadata": {},
   "source": [
    "**3. Support Vector Machine(SVM)**"
   ]
  },
  {
   "cell_type": "code",
   "execution_count": 68,
   "id": "afc1edb1",
   "metadata": {},
   "outputs": [
    {
     "name": "stdout",
     "output_type": "stream",
     "text": [
      "train accuracy: 0.8226950354609929\n",
      "cross validation score: 0.8227731092436976\n",
      "test accuracy: 0.7830188679245284\n"
     ]
    }
   ],
   "source": [
    "from sklearn.svm import SVC\n",
    "from sklearn.model_selection import GridSearchCV\n",
    "estimator=SVC()\n",
    "param_grid={'C':[0.01,0.02,0.2,0.3,0.5,0.7,0.9,1.0],'kernel':['linear','rbf','sigmoid','poly']}\n",
    "model_hp=GridSearchCV(estimator,param_grid,cv=5,scoring='accuracy')\n",
    "model_hp.fit(X_train,y_train)\n",
    "svm_model=model_hp.best_estimator_\n",
    "svm_model.fit(X_train,y_train)\n",
    "ypred_train=svm_model.predict(X_train)\n",
    "ypred_test=svm_model.predict(X_test)\n",
    "print('train accuracy:',accuracy_score(y_train,ypred_train))\n",
    "print('cross validation score:',cross_val_score(svm_model,X_train,y_train,cv=5,scoring='accuracy').mean())\n",
    "print('test accuracy:',accuracy_score(y_test,ypred_test))"
   ]
  },
  {
   "cell_type": "markdown",
   "id": "97a0291b",
   "metadata": {},
   "source": [
    "**4. Decision Tree Classifier**"
   ]
  },
  {
   "cell_type": "code",
   "execution_count": 69,
   "id": "9542cf65",
   "metadata": {},
   "outputs": [
    {
     "name": "stdout",
     "output_type": "stream",
     "text": [
      "train accuracy: 0.8226950354609929\n",
      "cross validation score: 0.8227731092436976\n",
      "test accuracy: 0.7830188679245284\n"
     ]
    }
   ],
   "source": [
    "from sklearn.tree import DecisionTreeClassifier\n",
    "from sklearn.model_selection import GridSearchCV\n",
    "estimator=DecisionTreeClassifier()\n",
    "param_grid={'max_depth':list(range(1,16)),\n",
    "                            'criterion':['gini','entropy']}\n",
    "model_hp=GridSearchCV(estimator,param_grid,cv=5,scoring='accuracy')\n",
    "model_hp.fit(X_train,y_train)\n",
    "dt_fi=model_hp.best_estimator_.feature_importances_\n",
    "index=[i for i,x in enumerate(dt_fi) if x>0]\n",
    "\n",
    "X_train_dt=X_train.iloc[:,index]\n",
    "X_test_dt=X_test.iloc[:,index]\n",
    "\n",
    "dt_model=model_hp.best_estimator_\n",
    "dt_model.fit(X_train_dt,y_train)\n",
    "ypred_train=dt_model.predict(X_train_dt)\n",
    "ypred_test=dt_model.predict(X_test_dt)\n",
    "print('train accuracy:',accuracy_score(y_train,ypred_train))\n",
    "print('cross validation score:',cross_val_score(dt_model,X_train_dt,y_train,cv=5,scoring='accuracy').mean())\n",
    "print('test accuracy:',accuracy_score(y_test,ypred_test))"
   ]
  },
  {
   "cell_type": "markdown",
   "id": "573c6f2f",
   "metadata": {},
   "source": [
    "**5. Random Forest Classifier**"
   ]
  },
  {
   "cell_type": "code",
   "execution_count": 70,
   "id": "78caca96",
   "metadata": {},
   "outputs": [
    {
     "name": "stdout",
     "output_type": "stream",
     "text": [
      "train accuracy: 0.9905437352245863\n",
      "cross validation score: 0.8063025210084034\n",
      "test accuracy: 0.7641509433962265\n"
     ]
    }
   ],
   "source": [
    "from sklearn.ensemble import RandomForestClassifier\n",
    "from sklearn.model_selection import GridSearchCV\n",
    "estimator=RandomForestClassifier(random_state=70)\n",
    "param_grid={'n_estimators':list(range(0,51))}\n",
    "model_hp=GridSearchCV(estimator,param_grid,cv=5,scoring='accuracy')\n",
    "model_hp.fit(X_train,y_train)\n",
    "rf_fi=model_hp.best_estimator_.feature_importances_\n",
    "index=[i for i,x in enumerate(rf_fi) if x>0]\n",
    "\n",
    "X_train_rf=X_train.iloc[:,index]\n",
    "X_test_rf=X_test.iloc[:,index]\n",
    "\n",
    "rf_model=model_hp.best_estimator_\n",
    "rf_model.fit(X_train_rf,y_train)\n",
    "ypred_train=rf_model.predict(X_train_rf)\n",
    "ypred_test=rf_model.predict(X_test_rf)\n",
    "print('train accuracy:',accuracy_score(y_train,ypred_train))\n",
    "print('cross validation score:',cross_val_score(rf_model,X_train_rf,y_train,cv=5,scoring='accuracy').mean())\n",
    "print('test accuracy:',accuracy_score(y_test,ypred_test))"
   ]
  },
  {
   "cell_type": "markdown",
   "id": "78f7167d",
   "metadata": {},
   "source": [
    "**6. Ada Boost Classifier**"
   ]
  },
  {
   "cell_type": "code",
   "execution_count": 71,
   "id": "4ccf6059",
   "metadata": {},
   "outputs": [
    {
     "name": "stdout",
     "output_type": "stream",
     "text": [
      "train accuracy: 0.83451536643026\n",
      "cross validation score: 0.8298879551820729\n",
      "test accuracy: 0.7641509433962265\n"
     ]
    }
   ],
   "source": [
    "from sklearn.ensemble import AdaBoostClassifier\n",
    "from sklearn.model_selection import GridSearchCV\n",
    "estimator=AdaBoostClassifier(random_state=70)\n",
    "param_grid={'n_estimators':list(range(0,51))}\n",
    "model_hp=GridSearchCV(estimator,param_grid,cv=5,scoring='accuracy')\n",
    "model_hp.fit(X_train,y_train)\n",
    "ab_fi=model_hp.best_estimator_.feature_importances_\n",
    "index=[i for i,x in enumerate(ab_fi) if x>0]\n",
    "\n",
    "X_train_ab=X_train.iloc[:,index]\n",
    "X_test_ab=X_test.iloc[:,index]\n",
    "\n",
    "ab_model=model_hp.best_estimator_\n",
    "ab_model.fit(X_train_ab,y_train)\n",
    "ypred_train=ab_model.predict(X_train_ab)\n",
    "ypred_test=ab_model.predict(X_test_ab)\n",
    "print('train accuracy:',accuracy_score(y_train,ypred_train))\n",
    "print('cross validation score:',cross_val_score(ab_model,X_train_ab,y_train,cv=5,scoring='accuracy').mean())\n",
    "print('test accuracy:',accuracy_score(y_test,ypred_test))"
   ]
  },
  {
   "cell_type": "markdown",
   "id": "143cc316",
   "metadata": {},
   "source": [
    "**7. Gradient Boost Classifier**"
   ]
  },
  {
   "cell_type": "code",
   "execution_count": 72,
   "id": "a55746ac",
   "metadata": {},
   "outputs": [
    {
     "name": "stdout",
     "output_type": "stream",
     "text": [
      "train accuracy: 0.8392434988179669\n",
      "cross validation score: 0.8203921568627452\n",
      "test accuracy: 0.7735849056603774\n"
     ]
    }
   ],
   "source": [
    "from sklearn.ensemble import GradientBoostingClassifier\n",
    "from sklearn.model_selection import GridSearchCV\n",
    "estimator=GradientBoostingClassifier(random_state=70)\n",
    "param_grid={'n_estimators':list(range(0,10)),\n",
    "           'learning_rate':[0.1,0.2,0.3,0.4,0.5,1.0]}\n",
    "model_hp=GridSearchCV(estimator,param_grid,cv=5,scoring='accuracy')\n",
    "model_hp.fit(X_train,y_train)\n",
    "gb_fi=model_hp.best_estimator_.feature_importances_\n",
    "index=[i for i,x in enumerate(gb_fi) if x>0]\n",
    "\n",
    "X_train_gb=X_train.iloc[:,index]\n",
    "X_test_gb=X_test.iloc[:,index]\n",
    "\n",
    "gb_model=model_hp.best_estimator_\n",
    "gb_model.fit(X_train_gb,y_train)\n",
    "ypred_train=gb_model.predict(X_train_gb)\n",
    "ypred_test=gb_model.predict(X_test_gb)\n",
    "print('train accuracy:',accuracy_score(y_train,ypred_train))\n",
    "print('cross validation score:',cross_val_score(gb_model,X_train_gb,y_train,cv=5,scoring='accuracy').mean())\n",
    "print('test accuracy:',accuracy_score(y_test,ypred_test))"
   ]
  },
  {
   "cell_type": "markdown",
   "id": "fd85dfc9",
   "metadata": {},
   "source": [
    "**8. XGBoost Classifier**"
   ]
  },
  {
   "cell_type": "code",
   "execution_count": 73,
   "id": "314924fd",
   "metadata": {},
   "outputs": [
    {
     "name": "stdout",
     "output_type": "stream",
     "text": [
      "train accuracy: 0.8557919621749409\n",
      "cross validation score: 0.8275070028011206\n",
      "test accuracy: 0.7735849056603774\n"
     ]
    }
   ],
   "source": [
    "from xgboost import XGBClassifier\n",
    "from sklearn.model_selection import GridSearchCV\n",
    "estimator=XGBClassifier(random_state=70)\n",
    "param_grid={'n_estimators':[10,20,40,100],\n",
    "           'gamma':[0,0.15,0.3,0.5,0.7,0.9,1.0],\n",
    "           'max_depth':[3,4,5]}\n",
    "model_hp=GridSearchCV(estimator,param_grid,cv=5,scoring='accuracy')\n",
    "model_hp.fit(X_train,y_train)\n",
    "xgb_fi=model_hp.best_estimator_.feature_importances_\n",
    "index=[i for i,x in enumerate(xgb_fi) if x>0]\n",
    "\n",
    "X_train_xgb=X_train.iloc[:,index]\n",
    "X_test_xgb=X_test.iloc[:,index]\n",
    "\n",
    "xgb_model=model_hp.best_estimator_\n",
    "xgb_model.fit(X_train_xgb,y_train)\n",
    "ypred_train=xgb_model.predict(X_train_xgb)\n",
    "ypred_test=xgb_model.predict(X_test_xgb)\n",
    "print('train accuracy:',accuracy_score(y_train,ypred_train))\n",
    "print('cross validation score:',cross_val_score(xgb_model,X_train_xgb,y_train,cv=5,scoring='accuracy').mean())\n",
    "print('test accuracy:',accuracy_score(y_test,ypred_test))"
   ]
  },
  {
   "cell_type": "code",
   "execution_count": 76,
   "id": "060d357c",
   "metadata": {},
   "outputs": [
    {
     "name": "stdout",
     "output_type": "stream",
     "text": [
      "Project is done\n"
     ]
    }
   ],
   "source": [
    "print(\"Project is done\")"
   ]
  },
  {
   "cell_type": "code",
   "execution_count": null,
   "id": "76b64ce0",
   "metadata": {},
   "outputs": [],
   "source": []
  }
 ],
 "metadata": {
  "kernelspec": {
   "display_name": "Python 3 (ipykernel)",
   "language": "python",
   "name": "python3"
  },
  "language_info": {
   "codemirror_mode": {
    "name": "ipython",
    "version": 3
   },
   "file_extension": ".py",
   "mimetype": "text/x-python",
   "name": "python",
   "nbconvert_exporter": "python",
   "pygments_lexer": "ipython3",
   "version": "3.11.4"
  }
 },
 "nbformat": 4,
 "nbformat_minor": 5
}
