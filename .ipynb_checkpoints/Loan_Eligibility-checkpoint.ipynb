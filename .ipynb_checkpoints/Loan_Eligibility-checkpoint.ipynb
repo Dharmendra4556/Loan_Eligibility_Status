{
 "cells": [
  {
   "cell_type": "markdown",
   "id": "8c9fd95b",
   "metadata": {},
   "source": [
    "# Business Problem Understanding\n",
    "Dream Housing Finance company deals in all kinds of home loans.They have presence across all urban,semi urban and rural areas.Customer first applies for home loan and after that company validates the customer eligibility for loan.\n",
    "\n",
    "Company wants to automate the loan eligibility preocess (real time)based on customer detail provided while filling online application form.These details are gender , Mrital Status,Education,Number of Dependents,Income,Loan Amount,Credit History and others.To automate this process,they have provided a database to identify the customers segments that are eligible for loan amount so that they can specially target these customers."
   ]
  },
  {
   "cell_type": "code",
   "execution_count": 1,
   "id": "c35eec4d",
   "metadata": {},
   "outputs": [
    {
     "name": "stdout",
     "output_type": "stream",
     "text": [
      "git operationss\n"
     ]
    }
   ],
   "source": [
    "print(\"git operationss\")"
   ]
  },
  {
   "cell_type": "code",
   "execution_count": null,
   "id": "dba27518",
   "metadata": {},
   "outputs": [],
   "source": [
    "import numpy as np\n",
    "import pandas as pd\n",
    "import matplotlib.pyplot as plt\n",
    "import seaborn as sns\n",
    "import warnings\n",
    "warnings.simplefilter('ignore')"
   ]
  },
  {
   "cell_type": "code",
   "execution_count": null,
   "id": "5bddf32c",
   "metadata": {},
   "outputs": [],
   "source": [
    "data=pd.read_csv('LoanData.csv')\n",
    "data.head()"
   ]
  },
  {
   "cell_type": "code",
   "execution_count": null,
   "id": "9795c37e",
   "metadata": {},
   "outputs": [],
   "source": [
    "data.info()"
   ]
  },
  {
   "cell_type": "code",
   "execution_count": null,
   "id": "4e8a0f88",
   "metadata": {},
   "outputs": [],
   "source": [
    "data.describe()"
   ]
  },
  {
   "cell_type": "code",
   "execution_count": null,
   "id": "e79934a7",
   "metadata": {},
   "outputs": [],
   "source": [
    "data.columns"
   ]
  },
  {
   "cell_type": "markdown",
   "id": "bae94c67",
   "metadata": {},
   "source": [
    "# Data Understanding \n",
    "- Loan_ID: Unique Loan ID\n",
    "    \n",
    "- Gender:Male/Female\n",
    "    \n",
    "- Married: Applicant married\n",
    "    \n",
    "- Dependents: Number of Dependents\n",
    "    \n",
    "- Education: Application Education\n",
    "    \n",
    "- Self_Employed : wheather the applicants it Self employed\n",
    "    \n",
    "- ApplicantIncome : Applicant income\n",
    "    \n",
    "- CoapplicantIncome : Coapplicant income\n",
    "    \n",
    "- LoanAmount : Loan amount in thousands\n",
    "    \n",
    "- Loan_Amount_Term : Term of loan in months\n",
    "    \n",
    "- Credit_History : credit history meets guidelines\n",
    "    \n",
    "- Property_Area : Urban/Semi Urban/Rural\n",
    "    \n",
    "- Loan_Status : Loan approved **target variable**"
   ]
  },
  {
   "cell_type": "code",
   "execution_count": null,
   "id": "02ae44b2",
   "metadata": {},
   "outputs": [],
   "source": [
    "data['Loan_ID'].nunique()"
   ]
  },
  {
   "cell_type": "code",
   "execution_count": null,
   "id": "c518d92e",
   "metadata": {},
   "outputs": [],
   "source": [
    "data.drop(columns=['Loan_ID'],inplace=True)"
   ]
  },
  {
   "cell_type": "code",
   "execution_count": null,
   "id": "970ece8b",
   "metadata": {},
   "outputs": [],
   "source": [
    "data"
   ]
  },
  {
   "cell_type": "code",
   "execution_count": null,
   "id": "d59b62d0",
   "metadata": {},
   "outputs": [],
   "source": [
    "data['Gender'].unique()"
   ]
  },
  {
   "cell_type": "code",
   "execution_count": null,
   "id": "5946fc2c",
   "metadata": {},
   "outputs": [],
   "source": [
    "data['Gender'].value_counts()"
   ]
  },
  {
   "cell_type": "code",
   "execution_count": null,
   "id": "f2e0658d",
   "metadata": {},
   "outputs": [],
   "source": [
    "data['Married'].unique()"
   ]
  },
  {
   "cell_type": "code",
   "execution_count": null,
   "id": "0cec9291",
   "metadata": {},
   "outputs": [],
   "source": [
    "data['Married'].value_counts()"
   ]
  },
  {
   "cell_type": "code",
   "execution_count": null,
   "id": "3159eaca",
   "metadata": {},
   "outputs": [],
   "source": [
    "data['Dependents'].unique()"
   ]
  },
  {
   "cell_type": "code",
   "execution_count": null,
   "id": "98d44099",
   "metadata": {},
   "outputs": [],
   "source": [
    "data['Dependents'].value_counts()"
   ]
  },
  {
   "cell_type": "code",
   "execution_count": null,
   "id": "9202f71d",
   "metadata": {},
   "outputs": [],
   "source": [
    "data['Education'].unique()"
   ]
  },
  {
   "cell_type": "code",
   "execution_count": null,
   "id": "3110ffda",
   "metadata": {},
   "outputs": [],
   "source": [
    "data['Self_Employed'].unique()"
   ]
  },
  {
   "cell_type": "code",
   "execution_count": null,
   "id": "e004a58b",
   "metadata": {},
   "outputs": [],
   "source": [
    "data['Self_Employed'].value_counts()"
   ]
  },
  {
   "cell_type": "code",
   "execution_count": null,
   "id": "0ce62361",
   "metadata": {},
   "outputs": [],
   "source": [
    "data['ApplicantIncome'].unique()"
   ]
  },
  {
   "cell_type": "code",
   "execution_count": null,
   "id": "7e6ed1fa",
   "metadata": {},
   "outputs": [],
   "source": [
    "data['ApplicantIncome'].value_counts()"
   ]
  },
  {
   "cell_type": "code",
   "execution_count": null,
   "id": "92408e24",
   "metadata": {},
   "outputs": [],
   "source": [
    "data['CoapplicantIncome'].unique()"
   ]
  },
  {
   "cell_type": "code",
   "execution_count": null,
   "id": "7e1e96fc",
   "metadata": {},
   "outputs": [],
   "source": [
    "data['CoapplicantIncome'].value_counts()"
   ]
  },
  {
   "cell_type": "code",
   "execution_count": null,
   "id": "fbf7156f",
   "metadata": {},
   "outputs": [],
   "source": [
    "data['Loan_Amount_Term'].unique()"
   ]
  },
  {
   "cell_type": "code",
   "execution_count": null,
   "id": "439d9fd9",
   "metadata": {},
   "outputs": [],
   "source": [
    "data['Loan_Amount_Term'].value_counts()"
   ]
  },
  {
   "cell_type": "code",
   "execution_count": null,
   "id": "bf5d68ec",
   "metadata": {},
   "outputs": [],
   "source": [
    "data['Credit_History'].unique()"
   ]
  },
  {
   "cell_type": "code",
   "execution_count": null,
   "id": "cc28f282",
   "metadata": {},
   "outputs": [],
   "source": [
    "data['Credit_History'].replace({0:'bad',1:'good'},inplace=True)"
   ]
  },
  {
   "cell_type": "code",
   "execution_count": null,
   "id": "db434fd6",
   "metadata": {},
   "outputs": [],
   "source": [
    "data['Credit_History'].unique()"
   ]
  },
  {
   "cell_type": "code",
   "execution_count": null,
   "id": "d4c901a5",
   "metadata": {},
   "outputs": [],
   "source": [
    "data['Credit_History'].value_counts()"
   ]
  },
  {
   "cell_type": "code",
   "execution_count": null,
   "id": "c4288f64",
   "metadata": {},
   "outputs": [],
   "source": [
    "data['Property_Area'].unique()"
   ]
  },
  {
   "cell_type": "code",
   "execution_count": null,
   "id": "44e21850",
   "metadata": {},
   "outputs": [],
   "source": [
    "data['Property_Area'].value_counts()"
   ]
  },
  {
   "cell_type": "code",
   "execution_count": null,
   "id": "232cd5ed",
   "metadata": {},
   "outputs": [],
   "source": [
    "data['Loan_Status'].unique()"
   ]
  },
  {
   "cell_type": "code",
   "execution_count": null,
   "id": "246a9e52",
   "metadata": {},
   "outputs": [],
   "source": [
    "data['Loan_Status'].value_counts()"
   ]
  },
  {
   "cell_type": "code",
   "execution_count": null,
   "id": "97b6dbdf",
   "metadata": {},
   "outputs": [],
   "source": [
    "data.duplicated().sum()"
   ]
  },
  {
   "cell_type": "code",
   "execution_count": null,
   "id": "cf3bacff",
   "metadata": {},
   "outputs": [],
   "source": [
    "data.isnull().sum()"
   ]
  },
  {
   "cell_type": "code",
   "execution_count": null,
   "id": "d8f1db63",
   "metadata": {},
   "outputs": [],
   "source": [
    "data.columns"
   ]
  },
  {
   "cell_type": "code",
   "execution_count": null,
   "id": "20a59775",
   "metadata": {},
   "outputs": [],
   "source": [
    "continous=['ApplicantIncome', 'CoapplicantIncome', 'LoanAmount']\n",
    "discrete_categorial=['Gender', 'Married','Education', 'Self_Employed','Credit_History', 'Property_Area', 'Loan_Status']\n",
    "discrete_count=['Dependents','Loan_Amount_Term']"
   ]
  },
  {
   "cell_type": "markdown",
   "id": "c907320a",
   "metadata": {},
   "source": [
    "## Exploratory Data Analysis(EDA)\n",
    "\n",
    "**for continous Variables**"
   ]
  },
  {
   "cell_type": "code",
   "execution_count": null,
   "id": "05b81c08",
   "metadata": {},
   "outputs": [],
   "source": [
    "data[continous].describe()"
   ]
  },
  {
   "cell_type": "code",
   "execution_count": null,
   "id": "f221685e",
   "metadata": {},
   "outputs": [],
   "source": [
    "plt.figure(figsize=(18,8))\n",
    "\n",
    "plt.subplot(1,3,1)\n",
    "sns.histplot(data['ApplicantIncome'],kde=True)\n",
    "\n",
    "plt.subplot(1,3,2)\n",
    "sns.histplot(data['CoapplicantIncome'],kde=True)\n",
    "\n",
    "plt.subplot(1,3,3)\n",
    "sns.histplot(data['LoanAmount'],kde=True)\n",
    "plt.show()"
   ]
  },
  {
   "cell_type": "code",
   "execution_count": null,
   "id": "ecf41c25",
   "metadata": {},
   "outputs": [],
   "source": [
    "data[continous].skew()"
   ]
  },
  {
   "cell_type": "code",
   "execution_count": null,
   "id": "e1150358",
   "metadata": {},
   "outputs": [],
   "source": [
    "sns.pairplot(data[continous])\n",
    "plt.show()"
   ]
  },
  {
   "cell_type": "code",
   "execution_count": null,
   "id": "35d28d98",
   "metadata": {},
   "outputs": [],
   "source": [
    "sns.heatmap(data[continous].corr(),annot=True)\n",
    "plt.show()"
   ]
  },
  {
   "cell_type": "code",
   "execution_count": null,
   "id": "458f10ef",
   "metadata": {},
   "outputs": [],
   "source": [
    "plt.figure(figsize=(12,4))\n",
    "\n",
    "plt.subplot(1,3,1)\n",
    "sns.boxplot(data['ApplicantIncome'])\n",
    "\n",
    "plt.subplot(1,3,2)\n",
    "sns.boxplot(data['CoapplicantIncome'])\n",
    "\n",
    "plt.subplot(1,3,3)\n",
    "sns.boxplot(data['LoanAmount'])\n",
    "plt.show()"
   ]
  },
  {
   "cell_type": "markdown",
   "id": "ebefcee6",
   "metadata": {},
   "source": [
    "**for Discrete Variables**"
   ]
  },
  {
   "cell_type": "code",
   "execution_count": null,
   "id": "3e29ba2a",
   "metadata": {},
   "outputs": [],
   "source": [
    "data[discrete_categorial].describe()"
   ]
  },
  {
   "cell_type": "code",
   "execution_count": null,
   "id": "ec2062dd",
   "metadata": {},
   "outputs": [],
   "source": [
    "plt.figure(figsize=(18,10))\n",
    "\n",
    "\n",
    "plt.subplot(2,4,1)\n",
    "sns.countplot(y=data['Gender'])\n",
    "\n",
    "plt.subplot(2,4,2)\n",
    "sns.countplot(y=data['Married'])\n",
    "\n",
    "plt.subplot(2,4,3)\n",
    "sns.countplot(y=data['Education'])\n",
    "\n",
    "plt.subplot(2,4,4)\n",
    "sns.countplot(y=data['Self_Employed'])\n",
    "\n",
    "plt.subplot(2,4,5)\n",
    "sns.countplot(y=data['Credit_History'])\n",
    "\n",
    "plt.subplot(2,4,6)\n",
    "sns.countplot(y=data['Property_Area'])\n",
    "\n",
    "plt.subplot(2,4,7)\n",
    "sns.countplot(y=data['Loan_Status'])\n",
    "\n",
    "plt.suptitle('Univariate Analysis On Categorical Columns.')\n",
    "plt.show()\n"
   ]
  },
  {
   "cell_type": "markdown",
   "id": "7bb74fe4",
   "metadata": {},
   "source": [
    "# Data Preparation"
   ]
  },
  {
   "cell_type": "code",
   "execution_count": null,
   "id": "89833279",
   "metadata": {},
   "outputs": [],
   "source": [
    "data['Income']=data['ApplicantIncome']+data['CoapplicantIncome']"
   ]
  },
  {
   "cell_type": "code",
   "execution_count": null,
   "id": "8bcb1db3",
   "metadata": {},
   "outputs": [],
   "source": [
    "data.drop(columns=['ApplicantIncome','CoapplicantIncome'],axis=1,inplace=True)"
   ]
  },
  {
   "cell_type": "markdown",
   "id": "3585f22e",
   "metadata": {},
   "source": [
    "**Modify the wrong data**"
   ]
  },
  {
   "cell_type": "code",
   "execution_count": null,
   "id": "562be1c9",
   "metadata": {},
   "outputs": [],
   "source": [
    "data['Dependents'].replace({'3+':3},inplace=True)"
   ]
  },
  {
   "cell_type": "markdown",
   "id": "4cbf376f",
   "metadata": {},
   "source": [
    "**Missing Values Treatment**"
   ]
  },
  {
   "cell_type": "code",
   "execution_count": null,
   "id": "999bd9bf",
   "metadata": {},
   "outputs": [],
   "source": [
    "data.isnull().sum()"
   ]
  },
  {
   "cell_type": "code",
   "execution_count": null,
   "id": "698c0389",
   "metadata": {},
   "outputs": [],
   "source": [
    "data.isnull().sum()/len(data)*100"
   ]
  },
  {
   "cell_type": "code",
   "execution_count": null,
   "id": "8aa4e3a8",
   "metadata": {},
   "outputs": [],
   "source": [
    "data=data.dropna(subset=['Income','LoanAmount','Loan_Amount_Term','Credit_History'])"
   ]
  },
  {
   "cell_type": "code",
   "execution_count": null,
   "id": "4917dd79",
   "metadata": {},
   "outputs": [],
   "source": [
    "# count variable replace with zero\n",
    "data['Dependents']=data['Dependents'].fillna(0)"
   ]
  },
  {
   "cell_type": "code",
   "execution_count": null,
   "id": "77b9d527",
   "metadata": {},
   "outputs": [],
   "source": [
    "# categorical variables replace with mode.\n",
    "data['Gender']=data['Gender'].fillna(data['Gender'].mode()[0])\n",
    "data['Married']=data['Married'].fillna(data['Married'].mode()[0])\n",
    "data['Self_Employed']=data['Self_Employed'].fillna(data['Self_Employed'].mode()[0])"
   ]
  },
  {
   "cell_type": "code",
   "execution_count": null,
   "id": "f44cc057",
   "metadata": {},
   "outputs": [],
   "source": [
    "data.isnull().sum()"
   ]
  },
  {
   "cell_type": "markdown",
   "id": "4efc6790",
   "metadata": {},
   "source": [
    "**outliers treatment**\n",
    "\n",
    "**Encoding**"
   ]
  },
  {
   "cell_type": "code",
   "execution_count": null,
   "id": "3b7b0a29",
   "metadata": {},
   "outputs": [],
   "source": [
    "data['Gender']=data['Gender'].map({'Male':1,'Female':0}).astype('int')\n",
    "data['Married']=data['Married'].map({'Yes':1,'No':0}).astype('int')\n",
    "data['Education']=data['Education'].map({'Graduate':1,'Not Graduate':0}).astype('int')\n",
    "data['Self_Employed']=data['Self_Employed'].map({'Yes':1,'No':0}).astype('int')\n",
    "data['Property_Area']=data['Property_Area'].map({'Rural':0,'Semiurban':1,'Urban':2}).astype('int')\n",
    "data['Credit_History']=data['Credit_History'].map({'good':1,'bad':0}).astype('int')\n",
    "data['Loan_Status']=data['Loan_Status'].map({'Y':1,'N':0}).astype('int')"
   ]
  },
  {
   "cell_type": "markdown",
   "id": "74cdab32",
   "metadata": {},
   "source": [
    "**data type conversion**"
   ]
  },
  {
   "cell_type": "code",
   "execution_count": null,
   "id": "9b3cbbaf",
   "metadata": {},
   "outputs": [],
   "source": [
    "data['Dependents']=data['Dependents'].astype('int')\n",
    "data['Loan_Amount_Term']=data['Loan_Amount_Term'].astype('int')"
   ]
  },
  {
   "cell_type": "code",
   "execution_count": null,
   "id": "09e23228",
   "metadata": {},
   "outputs": [],
   "source": [
    "data.dtypes"
   ]
  },
  {
   "cell_type": "code",
   "execution_count": null,
   "id": "a26fbe6e",
   "metadata": {},
   "outputs": [],
   "source": [
    "data.head()"
   ]
  },
  {
   "cell_type": "markdown",
   "id": "712d5cb5",
   "metadata": {},
   "source": [
    "**transformations**"
   ]
  },
  {
   "cell_type": "code",
   "execution_count": null,
   "id": "06dfbd59",
   "metadata": {},
   "outputs": [],
   "source": [
    "data[['Income','LoanAmount']].skew()"
   ]
  },
  {
   "cell_type": "code",
   "execution_count": null,
   "id": "777599b1",
   "metadata": {},
   "outputs": [],
   "source": [
    "from scipy.stats import boxcox\n",
    "data['Income'],a=boxcox(data['Income'])\n",
    "data['LoanAmount'],c=boxcox(data['LoanAmount'])"
   ]
  },
  {
   "cell_type": "code",
   "execution_count": null,
   "id": "b40ea17f",
   "metadata": {},
   "outputs": [],
   "source": [
    "data[['Income','LoanAmount']].skew()"
   ]
  },
  {
   "cell_type": "code",
   "execution_count": null,
   "id": "84bfb54b",
   "metadata": {},
   "outputs": [],
   "source": [
    "data['Loan_Amount_Term']=data['Loan_Amount_Term']/12"
   ]
  },
  {
   "cell_type": "code",
   "execution_count": null,
   "id": "4d827977",
   "metadata": {},
   "outputs": [],
   "source": [
    "data.head()"
   ]
  },
  {
   "cell_type": "markdown",
   "id": "fe120c48",
   "metadata": {},
   "source": [
    "**X & y**"
   ]
  },
  {
   "cell_type": "code",
   "execution_count": null,
   "id": "d2c33cda",
   "metadata": {},
   "outputs": [],
   "source": [
    "X=data.drop('Loan_Status',axis=1)\n",
    "y=data['Loan_Status']"
   ]
  },
  {
   "cell_type": "markdown",
   "id": "bc7d052e",
   "metadata": {},
   "source": [
    "**identify the best random state number**"
   ]
  },
  {
   "cell_type": "code",
   "execution_count": null,
   "id": "8dfa67e4",
   "metadata": {},
   "outputs": [],
   "source": [
    "train=[]\n",
    "test=[]\n",
    "cv=[]\n",
    "for i in range(0,101):\n",
    "    from sklearn.model_selection import train_test_split\n",
    "    X_train,X_test,y_train,y_test=train_test_split(X,y,test_size=0.2,random_state=i)\n",
    "    from sklearn.linear_model import LogisticRegression\n",
    "    lg=LogisticRegression()\n",
    "    lg.fit(X_train,y_train)\n",
    "    ypred_train=lg.predict(X_train)\n",
    "    ypred_test=lg.predict(X_test)\n",
    "    from sklearn.metrics import accuracy_score\n",
    "    from sklearn.model_selection import cross_val_score\n",
    "    train.append(accuracy_score(y_train,ypred_train))\n",
    "    test.append(accuracy_score(y_test,ypred_test))\n",
    "    cv.append(cross_val_score(lg,X_train,y_train,cv=5,scoring='accuracy').mean())\n",
    "em=pd.DataFrame({'train':train,'test':test,'cv':cv})\n",
    "gm=em[(abs(em['train']-em['test'])<=0.05) & (abs(em['test']-em['cv'])<=0.05)]\n",
    "rs=gm[gm['cv']==gm['cv'].max()].index.to_list()[0]\n",
    "print('best random state number is :',rs)"
   ]
  },
  {
   "cell_type": "markdown",
   "id": "b35ac89a",
   "metadata": {},
   "source": [
    "**train test split**"
   ]
  },
  {
   "cell_type": "code",
   "execution_count": null,
   "id": "351306b0",
   "metadata": {},
   "outputs": [],
   "source": [
    "from sklearn.model_selection import train_test_split\n",
    "X_train,X_test,y_train,y_test=train_test_split(X,y,test_size=0.2,random_state=70)"
   ]
  },
  {
   "cell_type": "markdown",
   "id": "16fd5dda",
   "metadata": {},
   "source": [
    "# Machine Learning Modeling & Evaluation\n",
    "\n",
    "**1. Logistic Regression**"
   ]
  },
  {
   "cell_type": "code",
   "execution_count": null,
   "id": "5789761a",
   "metadata": {},
   "outputs": [],
   "source": [
    "from sklearn.linear_model import LogisticRegression\n",
    "from sklearn.model_selection import cross_val_score\n",
    "from sklearn.metrics import accuracy_score"
   ]
  },
  {
   "cell_type": "code",
   "execution_count": null,
   "id": "9516d7a7",
   "metadata": {},
   "outputs": [],
   "source": [
    "lgr_model=LogisticRegression()\n",
    "lgr_model.fit(X_train,y_train)\n",
    "ypred_train=lgr_model.predict(X_train)\n",
    "ypred_test=lgr_model.predict(X_test)\n",
    "print('train accuracy:',accuracy_score(y_train,ypred_train))\n",
    "print('cross validation score:',cross_val_score(lgr_model,X_train,y_train,cv=5,scoring='accuracy').mean())\n",
    "print('test accuracy:',accuracy_score(y_test,ypred_test))"
   ]
  },
  {
   "cell_type": "markdown",
   "id": "d06f420f",
   "metadata": {},
   "source": [
    "**2. KNN**"
   ]
  },
  {
   "cell_type": "code",
   "execution_count": null,
   "id": "2b2120ab",
   "metadata": {},
   "outputs": [],
   "source": [
    "from sklearn.neighbors import KNeighborsClassifier\n",
    "from sklearn.model_selection import GridSearchCV\n",
    "estimator=KNeighborsClassifier()\n",
    "param_grid={'n_neighbors':list(range(0,51))}\n",
    "model_hp=GridSearchCV(estimator,param_grid,cv=5,scoring='accuracy')\n",
    "model_hp.fit(X_train,y_train)\n",
    "knn_model=model_hp.best_estimator_\n",
    "knn_model.fit(X_train,y_train)\n",
    "ypred_train=knn_model.predict(X_train)\n",
    "ypred_test=knn_model.predict(X_test)\n",
    "print('train accuracy:',accuracy_score(y_train,ypred_train))\n",
    "print('cross validation score:',cross_val_score(knn_model,X_train,y_train,cv=5,scoring='accuracy').mean())\n",
    "print('test accuracy:',accuracy_score(y_test,ypred_test))"
   ]
  },
  {
   "cell_type": "markdown",
   "id": "53a5790c",
   "metadata": {},
   "source": [
    "**3. Support Vector Machine(SVM)**"
   ]
  },
  {
   "cell_type": "code",
   "execution_count": null,
   "id": "afc1edb1",
   "metadata": {},
   "outputs": [],
   "source": [
    "from sklearn.svm import SVC\n",
    "from sklearn.model_selection import GridSearchCV\n",
    "estimator=SVC()\n",
    "param_grid={'C':[0.01,0.02,0.2,0.3,0.5,0.7,0.9,1.0],'kernel':['linear','rbf','sigmoid','poly']}\n",
    "model_hp=GridSearchCV(estimator,param_grid,cv=5,scoring='accuracy')\n",
    "model_hp.fit(X_train,y_train)\n",
    "svm_model=model_hp.best_estimator_\n",
    "svm_model.fit(X_train,y_train)\n",
    "ypred_train=svm_model.predict(X_train)\n",
    "ypred_test=svm_model.predict(X_test)\n",
    "print('train accuracy:',accuracy_score(y_train,ypred_train))\n",
    "print('cross validation score:',cross_val_score(svm_model,X_train,y_train,cv=5,scoring='accuracy').mean())\n",
    "print('test accuracy:',accuracy_score(y_test,ypred_test))"
   ]
  },
  {
   "cell_type": "markdown",
   "id": "97a0291b",
   "metadata": {},
   "source": [
    "**4. Decision Tree Classifier**"
   ]
  },
  {
   "cell_type": "code",
   "execution_count": null,
   "id": "9542cf65",
   "metadata": {},
   "outputs": [],
   "source": [
    "from sklearn.tree import DecisionTreeClassifier\n",
    "from sklearn.model_selection import GridSearchCV\n",
    "estimator=DecisionTreeClassifier()\n",
    "param_grid={'max_depth':list(range(1,16)),\n",
    "                            'criterion':['gini','entropy']}\n",
    "model_hp=GridSearchCV(estimator,param_grid,cv=5,scoring='accuracy')\n",
    "model_hp.fit(X_train,y_train)\n",
    "dt_fi=model_hp.best_estimator_.feature_importances_\n",
    "index=[i for i,x in enumerate(dt_fi) if x>0]\n",
    "\n",
    "X_train_dt=X_train.iloc[:,index]\n",
    "X_test_dt=X_test.iloc[:,index]\n",
    "\n",
    "dt_model=model_hp.best_estimator_\n",
    "dt_model.fit(X_train_dt,y_train)\n",
    "ypred_train=dt_model.predict(X_train_dt)\n",
    "ypred_test=dt_model.predict(X_test_dt)\n",
    "print('train accuracy:',accuracy_score(y_train,ypred_train))\n",
    "print('cross validation score:',cross_val_score(dt_model,X_train_dt,y_train,cv=5,scoring='accuracy').mean())\n",
    "print('test accuracy:',accuracy_score(y_test,ypred_test))"
   ]
  },
  {
   "cell_type": "markdown",
   "id": "573c6f2f",
   "metadata": {},
   "source": [
    "**5. Random Forest Classifier**"
   ]
  },
  {
   "cell_type": "code",
   "execution_count": null,
   "id": "78caca96",
   "metadata": {},
   "outputs": [],
   "source": [
    "from sklearn.ensemble import RandomForestClassifier\n",
    "from sklearn.model_selection import GridSearchCV\n",
    "estimator=RandomForestClassifier(random_state=70)\n",
    "param_grid={'n_estimators':list(range(0,51))}\n",
    "model_hp=GridSearchCV(estimator,param_grid,cv=5,scoring='accuracy')\n",
    "model_hp.fit(X_train,y_train)\n",
    "rf_fi=model_hp.best_estimator_.feature_importances_\n",
    "index=[i for i,x in enumerate(rf_fi) if x>0]\n",
    "\n",
    "X_train_rf=X_train.iloc[:,index]\n",
    "X_test_rf=X_test.iloc[:,index]\n",
    "\n",
    "rf_model=model_hp.best_estimator_\n",
    "rf_model.fit(X_train_rf,y_train)\n",
    "ypred_train=rf_model.predict(X_train_rf)\n",
    "ypred_test=rf_model.predict(X_test_rf)\n",
    "print('train accuracy:',accuracy_score(y_train,ypred_train))\n",
    "print('cross validation score:',cross_val_score(rf_model,X_train_rf,y_train,cv=5,scoring='accuracy').mean())\n",
    "print('test accuracy:',accuracy_score(y_test,ypred_test))"
   ]
  },
  {
   "cell_type": "markdown",
   "id": "78f7167d",
   "metadata": {},
   "source": [
    "**6. Ada Boost Classifier**"
   ]
  },
  {
   "cell_type": "code",
   "execution_count": null,
   "id": "4ccf6059",
   "metadata": {},
   "outputs": [],
   "source": [
    "from sklearn.ensemble import AdaBoostClassifier\n",
    "from sklearn.model_selection import GridSearchCV\n",
    "estimator=AdaBoostClassifier(random_state=70)\n",
    "param_grid={'n_estimators':list(range(0,51))}\n",
    "model_hp=GridSearchCV(estimator,param_grid,cv=5,scoring='accuracy')\n",
    "model_hp.fit(X_train,y_train)\n",
    "ab_fi=model_hp.best_estimator_.feature_importances_\n",
    "index=[i for i,x in enumerate(ab_fi) if x>0]\n",
    "\n",
    "X_train_ab=X_train.iloc[:,index]\n",
    "X_test_ab=X_test.iloc[:,index]\n",
    "\n",
    "ab_model=model_hp.best_estimator_\n",
    "ab_model.fit(X_train_ab,y_train)\n",
    "ypred_train=ab_model.predict(X_train_ab)\n",
    "ypred_test=ab_model.predict(X_test_ab)\n",
    "print('train accuracy:',accuracy_score(y_train,ypred_train))\n",
    "print('cross validation score:',cross_val_score(ab_model,X_train_ab,y_train,cv=5,scoring='accuracy').mean())\n",
    "print('test accuracy:',accuracy_score(y_test,ypred_test))"
   ]
  },
  {
   "cell_type": "markdown",
   "id": "143cc316",
   "metadata": {},
   "source": [
    "**7. Gradient Boost Classifier**"
   ]
  },
  {
   "cell_type": "code",
   "execution_count": null,
   "id": "a55746ac",
   "metadata": {},
   "outputs": [],
   "source": [
    "from sklearn.ensemble import GradientBoostingClassifier\n",
    "from sklearn.model_selection import GridSearchCV\n",
    "estimator=GradientBoostingClassifier(random_state=70)\n",
    "param_grid={'n_estimators':list(range(0,10)),\n",
    "           'learning_rate':[0.1,0.2,0.3,0.4,0.5,1.0]}\n",
    "model_hp=GridSearchCV(estimator,param_grid,cv=5,scoring='accuracy')\n",
    "model_hp.fit(X_train,y_train)\n",
    "gb_fi=model_hp.best_estimator_.feature_importances_\n",
    "index=[i for i,x in enumerate(gb_fi) if x>0]\n",
    "\n",
    "X_train_gb=X_train.iloc[:,index]\n",
    "X_test_gb=X_test.iloc[:,index]\n",
    "\n",
    "gb_model=model_hp.best_estimator_\n",
    "gb_model.fit(X_train_gb,y_train)\n",
    "ypred_train=gb_model.predict(X_train_gb)\n",
    "ypred_test=gb_model.predict(X_test_gb)\n",
    "print('train accuracy:',accuracy_score(y_train,ypred_train))\n",
    "print('cross validation score:',cross_val_score(gb_model,X_train_gb,y_train,cv=5,scoring='accuracy').mean())\n",
    "print('test accuracy:',accuracy_score(y_test,ypred_test))"
   ]
  },
  {
   "cell_type": "markdown",
   "id": "fd85dfc9",
   "metadata": {},
   "source": [
    "**8. XGBoost Classifier**"
   ]
  },
  {
   "cell_type": "code",
   "execution_count": null,
   "id": "314924fd",
   "metadata": {},
   "outputs": [],
   "source": [
    "from xgboost import XGBClassifier\n",
    "from sklearn.model_selection import GridSearchCV\n",
    "estimator=XGBClassifier(random_state=70)\n",
    "param_grid={'n_estimators':[10,20,40,100],\n",
    "           'gamma':[0,0.15,0.3,0.5,0.7,0.9,1.0],\n",
    "           'max_depth':[3,4,5]}\n",
    "model_hp=GridSearchCV(estimator,param_grid,cv=5,scoring='accuracy')\n",
    "model_hp.fit(X_train,y_train)\n",
    "xgb_fi=model_hp.best_estimator_.feature_importances_\n",
    "index=[i for i,x in enumerate(xgb_fi) if x>0]\n",
    "\n",
    "X_train_xgb=X_train.iloc[:,index]\n",
    "X_test_xgb=X_test.iloc[:,index]\n",
    "\n",
    "xgb_model=model_hp.best_estimator_\n",
    "xgb_model.fit(X_train_xgb,y_train)\n",
    "ypred_train=xgb_model.predict(X_train_xgb)\n",
    "ypred_test=xgb_model.predict(X_test_xgb)\n",
    "print('train accuracy:',accuracy_score(y_train,ypred_train))\n",
    "print('cross validation score:',cross_val_score(xgb_model,X_train_xgb,y_train,cv=5,scoring='accuracy').mean())\n",
    "print('test accuracy:',accuracy_score(y_test,ypred_test))"
   ]
  },
  {
   "cell_type": "code",
   "execution_count": null,
   "id": "d2e2fbde",
   "metadata": {},
   "outputs": [],
   "source": []
  }
 ],
 "metadata": {
  "kernelspec": {
   "display_name": "Python 3 (ipykernel)",
   "language": "python",
   "name": "python3"
  },
  "language_info": {
   "codemirror_mode": {
    "name": "ipython",
    "version": 3
   },
   "file_extension": ".py",
   "mimetype": "text/x-python",
   "name": "python",
   "nbconvert_exporter": "python",
   "pygments_lexer": "ipython3",
   "version": "3.11.4"
  }
 },
 "nbformat": 4,
 "nbformat_minor": 5
}
